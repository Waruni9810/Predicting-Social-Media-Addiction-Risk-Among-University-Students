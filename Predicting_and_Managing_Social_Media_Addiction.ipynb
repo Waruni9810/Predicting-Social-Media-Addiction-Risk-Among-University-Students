{
  "nbformat": 4,
  "nbformat_minor": 0,
  "metadata": {
    "colab": {
      "provenance": []
    },
    "kernelspec": {
      "name": "python3",
      "display_name": "Python 3"
    },
    "language_info": {
      "name": "python"
    }
  },
  "cells": [
    {
      "cell_type": "markdown",
      "source": [
        "### **1. Identifying the Problem**"
      ],
      "metadata": {
        "id": "C9Kml_g4BOFT"
      }
    },
    {
      "cell_type": "markdown",
      "source": [
        "**Predicting and Managing Social Media Addiction Among Students Using Data Mining and Machine Learning Techniques**"
      ],
      "metadata": {
        "id": "nTnBz5h6BYfS"
      }
    },
    {
      "cell_type": "markdown",
      "source": [
        "This section defines the objective of the project: \"To predict social media addiction risk among students based on behavioral and demographic data using machine learning techniques.\""
      ],
      "metadata": {
        "id": "RhPdoDFKBhMJ"
      }
    },
    {
      "cell_type": "markdown",
      "source": [
        "### **2. Data Understanding**"
      ],
      "metadata": {
        "id": "GjWqh9oeBqCo"
      }
    },
    {
      "cell_type": "markdown",
      "source": [
        "**2.1 Data Collection**"
      ],
      "metadata": {
        "id": "1BO-RBGqBrkD"
      }
    },
    {
      "cell_type": "markdown",
      "source": [
        "Load datasets (train, test, validation) and provide a brief overview of each dataset."
      ],
      "metadata": {
        "id": "stIbyedl3OyE"
      }
    },
    {
      "cell_type": "code",
      "execution_count": 2,
      "metadata": {
        "colab": {
          "base_uri": "https://localhost:8080/",
          "height": 761
        },
        "id": "nKp73RTc22kB",
        "outputId": "df77ff3d-1018-4df3-eec2-67c4db2ecfee"
      },
      "outputs": [
        {
          "output_type": "stream",
          "name": "stdout",
          "text": [
            "Train Data:\n"
          ]
        },
        {
          "output_type": "display_data",
          "data": {
            "text/plain": [
              "   User_ID   Age  Gender   Platform  Daily_Usage_Time (minutes)  \\\n",
              "0      NaN   NaN     NaN        NaN                         NaN   \n",
              "1      1.0  25.0  Female  Instagram                       120.0   \n",
              "2      NaN   NaN     NaN        NaN                         NaN   \n",
              "3      2.0  30.0    Male    Twitter                        90.0   \n",
              "4      NaN   NaN     NaN        NaN                         NaN   \n",
              "\n",
              "   Posts_Per_Day  Likes_Received_Per_Day  Comments_Received_Per_Day  \\\n",
              "0            NaN                     NaN                        NaN   \n",
              "1            3.0                    45.0                       10.0   \n",
              "2            NaN                     NaN                        NaN   \n",
              "3            5.0                    20.0                       25.0   \n",
              "4            NaN                     NaN                        NaN   \n",
              "\n",
              "   Messages_Sent_Per_Day Dominant_Emotion  \n",
              "0                    NaN              NaN  \n",
              "1                   12.0        Happiness  \n",
              "2                    NaN              NaN  \n",
              "3                   30.0            Anger  \n",
              "4                    NaN              NaN  "
            ],
            "text/html": [
              "\n",
              "  <div id=\"df-72e5eff3-c97c-4be1-986a-9841193e1742\" class=\"colab-df-container\">\n",
              "    <div>\n",
              "<style scoped>\n",
              "    .dataframe tbody tr th:only-of-type {\n",
              "        vertical-align: middle;\n",
              "    }\n",
              "\n",
              "    .dataframe tbody tr th {\n",
              "        vertical-align: top;\n",
              "    }\n",
              "\n",
              "    .dataframe thead th {\n",
              "        text-align: right;\n",
              "    }\n",
              "</style>\n",
              "<table border=\"1\" class=\"dataframe\">\n",
              "  <thead>\n",
              "    <tr style=\"text-align: right;\">\n",
              "      <th></th>\n",
              "      <th>User_ID</th>\n",
              "      <th>Age</th>\n",
              "      <th>Gender</th>\n",
              "      <th>Platform</th>\n",
              "      <th>Daily_Usage_Time (minutes)</th>\n",
              "      <th>Posts_Per_Day</th>\n",
              "      <th>Likes_Received_Per_Day</th>\n",
              "      <th>Comments_Received_Per_Day</th>\n",
              "      <th>Messages_Sent_Per_Day</th>\n",
              "      <th>Dominant_Emotion</th>\n",
              "    </tr>\n",
              "  </thead>\n",
              "  <tbody>\n",
              "    <tr>\n",
              "      <th>0</th>\n",
              "      <td>NaN</td>\n",
              "      <td>NaN</td>\n",
              "      <td>NaN</td>\n",
              "      <td>NaN</td>\n",
              "      <td>NaN</td>\n",
              "      <td>NaN</td>\n",
              "      <td>NaN</td>\n",
              "      <td>NaN</td>\n",
              "      <td>NaN</td>\n",
              "      <td>NaN</td>\n",
              "    </tr>\n",
              "    <tr>\n",
              "      <th>1</th>\n",
              "      <td>1.0</td>\n",
              "      <td>25.0</td>\n",
              "      <td>Female</td>\n",
              "      <td>Instagram</td>\n",
              "      <td>120.0</td>\n",
              "      <td>3.0</td>\n",
              "      <td>45.0</td>\n",
              "      <td>10.0</td>\n",
              "      <td>12.0</td>\n",
              "      <td>Happiness</td>\n",
              "    </tr>\n",
              "    <tr>\n",
              "      <th>2</th>\n",
              "      <td>NaN</td>\n",
              "      <td>NaN</td>\n",
              "      <td>NaN</td>\n",
              "      <td>NaN</td>\n",
              "      <td>NaN</td>\n",
              "      <td>NaN</td>\n",
              "      <td>NaN</td>\n",
              "      <td>NaN</td>\n",
              "      <td>NaN</td>\n",
              "      <td>NaN</td>\n",
              "    </tr>\n",
              "    <tr>\n",
              "      <th>3</th>\n",
              "      <td>2.0</td>\n",
              "      <td>30.0</td>\n",
              "      <td>Male</td>\n",
              "      <td>Twitter</td>\n",
              "      <td>90.0</td>\n",
              "      <td>5.0</td>\n",
              "      <td>20.0</td>\n",
              "      <td>25.0</td>\n",
              "      <td>30.0</td>\n",
              "      <td>Anger</td>\n",
              "    </tr>\n",
              "    <tr>\n",
              "      <th>4</th>\n",
              "      <td>NaN</td>\n",
              "      <td>NaN</td>\n",
              "      <td>NaN</td>\n",
              "      <td>NaN</td>\n",
              "      <td>NaN</td>\n",
              "      <td>NaN</td>\n",
              "      <td>NaN</td>\n",
              "      <td>NaN</td>\n",
              "      <td>NaN</td>\n",
              "      <td>NaN</td>\n",
              "    </tr>\n",
              "  </tbody>\n",
              "</table>\n",
              "</div>\n",
              "    <div class=\"colab-df-buttons\">\n",
              "\n",
              "  <div class=\"colab-df-container\">\n",
              "    <button class=\"colab-df-convert\" onclick=\"convertToInteractive('df-72e5eff3-c97c-4be1-986a-9841193e1742')\"\n",
              "            title=\"Convert this dataframe to an interactive table.\"\n",
              "            style=\"display:none;\">\n",
              "\n",
              "  <svg xmlns=\"http://www.w3.org/2000/svg\" height=\"24px\" viewBox=\"0 -960 960 960\">\n",
              "    <path d=\"M120-120v-720h720v720H120Zm60-500h600v-160H180v160Zm220 220h160v-160H400v160Zm0 220h160v-160H400v160ZM180-400h160v-160H180v160Zm440 0h160v-160H620v160ZM180-180h160v-160H180v160Zm440 0h160v-160H620v160Z\"/>\n",
              "  </svg>\n",
              "    </button>\n",
              "\n",
              "  <style>\n",
              "    .colab-df-container {\n",
              "      display:flex;\n",
              "      gap: 12px;\n",
              "    }\n",
              "\n",
              "    .colab-df-convert {\n",
              "      background-color: #E8F0FE;\n",
              "      border: none;\n",
              "      border-radius: 50%;\n",
              "      cursor: pointer;\n",
              "      display: none;\n",
              "      fill: #1967D2;\n",
              "      height: 32px;\n",
              "      padding: 0 0 0 0;\n",
              "      width: 32px;\n",
              "    }\n",
              "\n",
              "    .colab-df-convert:hover {\n",
              "      background-color: #E2EBFA;\n",
              "      box-shadow: 0px 1px 2px rgba(60, 64, 67, 0.3), 0px 1px 3px 1px rgba(60, 64, 67, 0.15);\n",
              "      fill: #174EA6;\n",
              "    }\n",
              "\n",
              "    .colab-df-buttons div {\n",
              "      margin-bottom: 4px;\n",
              "    }\n",
              "\n",
              "    [theme=dark] .colab-df-convert {\n",
              "      background-color: #3B4455;\n",
              "      fill: #D2E3FC;\n",
              "    }\n",
              "\n",
              "    [theme=dark] .colab-df-convert:hover {\n",
              "      background-color: #434B5C;\n",
              "      box-shadow: 0px 1px 3px 1px rgba(0, 0, 0, 0.15);\n",
              "      filter: drop-shadow(0px 1px 2px rgba(0, 0, 0, 0.3));\n",
              "      fill: #FFFFFF;\n",
              "    }\n",
              "  </style>\n",
              "\n",
              "    <script>\n",
              "      const buttonEl =\n",
              "        document.querySelector('#df-72e5eff3-c97c-4be1-986a-9841193e1742 button.colab-df-convert');\n",
              "      buttonEl.style.display =\n",
              "        google.colab.kernel.accessAllowed ? 'block' : 'none';\n",
              "\n",
              "      async function convertToInteractive(key) {\n",
              "        const element = document.querySelector('#df-72e5eff3-c97c-4be1-986a-9841193e1742');\n",
              "        const dataTable =\n",
              "          await google.colab.kernel.invokeFunction('convertToInteractive',\n",
              "                                                    [key], {});\n",
              "        if (!dataTable) return;\n",
              "\n",
              "        const docLinkHtml = 'Like what you see? Visit the ' +\n",
              "          '<a target=\"_blank\" href=https://colab.research.google.com/notebooks/data_table.ipynb>data table notebook</a>'\n",
              "          + ' to learn more about interactive tables.';\n",
              "        element.innerHTML = '';\n",
              "        dataTable['output_type'] = 'display_data';\n",
              "        await google.colab.output.renderOutput(dataTable, element);\n",
              "        const docLink = document.createElement('div');\n",
              "        docLink.innerHTML = docLinkHtml;\n",
              "        element.appendChild(docLink);\n",
              "      }\n",
              "    </script>\n",
              "  </div>\n",
              "\n",
              "\n",
              "<div id=\"df-7995002e-e07a-4533-addc-6c3f892b914a\">\n",
              "  <button class=\"colab-df-quickchart\" onclick=\"quickchart('df-7995002e-e07a-4533-addc-6c3f892b914a')\"\n",
              "            title=\"Suggest charts\"\n",
              "            style=\"display:none;\">\n",
              "\n",
              "<svg xmlns=\"http://www.w3.org/2000/svg\" height=\"24px\"viewBox=\"0 0 24 24\"\n",
              "     width=\"24px\">\n",
              "    <g>\n",
              "        <path d=\"M19 3H5c-1.1 0-2 .9-2 2v14c0 1.1.9 2 2 2h14c1.1 0 2-.9 2-2V5c0-1.1-.9-2-2-2zM9 17H7v-7h2v7zm4 0h-2V7h2v10zm4 0h-2v-4h2v4z\"/>\n",
              "    </g>\n",
              "</svg>\n",
              "  </button>\n",
              "\n",
              "<style>\n",
              "  .colab-df-quickchart {\n",
              "      --bg-color: #E8F0FE;\n",
              "      --fill-color: #1967D2;\n",
              "      --hover-bg-color: #E2EBFA;\n",
              "      --hover-fill-color: #174EA6;\n",
              "      --disabled-fill-color: #AAA;\n",
              "      --disabled-bg-color: #DDD;\n",
              "  }\n",
              "\n",
              "  [theme=dark] .colab-df-quickchart {\n",
              "      --bg-color: #3B4455;\n",
              "      --fill-color: #D2E3FC;\n",
              "      --hover-bg-color: #434B5C;\n",
              "      --hover-fill-color: #FFFFFF;\n",
              "      --disabled-bg-color: #3B4455;\n",
              "      --disabled-fill-color: #666;\n",
              "  }\n",
              "\n",
              "  .colab-df-quickchart {\n",
              "    background-color: var(--bg-color);\n",
              "    border: none;\n",
              "    border-radius: 50%;\n",
              "    cursor: pointer;\n",
              "    display: none;\n",
              "    fill: var(--fill-color);\n",
              "    height: 32px;\n",
              "    padding: 0;\n",
              "    width: 32px;\n",
              "  }\n",
              "\n",
              "  .colab-df-quickchart:hover {\n",
              "    background-color: var(--hover-bg-color);\n",
              "    box-shadow: 0 1px 2px rgba(60, 64, 67, 0.3), 0 1px 3px 1px rgba(60, 64, 67, 0.15);\n",
              "    fill: var(--button-hover-fill-color);\n",
              "  }\n",
              "\n",
              "  .colab-df-quickchart-complete:disabled,\n",
              "  .colab-df-quickchart-complete:disabled:hover {\n",
              "    background-color: var(--disabled-bg-color);\n",
              "    fill: var(--disabled-fill-color);\n",
              "    box-shadow: none;\n",
              "  }\n",
              "\n",
              "  .colab-df-spinner {\n",
              "    border: 2px solid var(--fill-color);\n",
              "    border-color: transparent;\n",
              "    border-bottom-color: var(--fill-color);\n",
              "    animation:\n",
              "      spin 1s steps(1) infinite;\n",
              "  }\n",
              "\n",
              "  @keyframes spin {\n",
              "    0% {\n",
              "      border-color: transparent;\n",
              "      border-bottom-color: var(--fill-color);\n",
              "      border-left-color: var(--fill-color);\n",
              "    }\n",
              "    20% {\n",
              "      border-color: transparent;\n",
              "      border-left-color: var(--fill-color);\n",
              "      border-top-color: var(--fill-color);\n",
              "    }\n",
              "    30% {\n",
              "      border-color: transparent;\n",
              "      border-left-color: var(--fill-color);\n",
              "      border-top-color: var(--fill-color);\n",
              "      border-right-color: var(--fill-color);\n",
              "    }\n",
              "    40% {\n",
              "      border-color: transparent;\n",
              "      border-right-color: var(--fill-color);\n",
              "      border-top-color: var(--fill-color);\n",
              "    }\n",
              "    60% {\n",
              "      border-color: transparent;\n",
              "      border-right-color: var(--fill-color);\n",
              "    }\n",
              "    80% {\n",
              "      border-color: transparent;\n",
              "      border-right-color: var(--fill-color);\n",
              "      border-bottom-color: var(--fill-color);\n",
              "    }\n",
              "    90% {\n",
              "      border-color: transparent;\n",
              "      border-bottom-color: var(--fill-color);\n",
              "    }\n",
              "  }\n",
              "</style>\n",
              "\n",
              "  <script>\n",
              "    async function quickchart(key) {\n",
              "      const quickchartButtonEl =\n",
              "        document.querySelector('#' + key + ' button');\n",
              "      quickchartButtonEl.disabled = true;  // To prevent multiple clicks.\n",
              "      quickchartButtonEl.classList.add('colab-df-spinner');\n",
              "      try {\n",
              "        const charts = await google.colab.kernel.invokeFunction(\n",
              "            'suggestCharts', [key], {});\n",
              "      } catch (error) {\n",
              "        console.error('Error during call to suggestCharts:', error);\n",
              "      }\n",
              "      quickchartButtonEl.classList.remove('colab-df-spinner');\n",
              "      quickchartButtonEl.classList.add('colab-df-quickchart-complete');\n",
              "    }\n",
              "    (() => {\n",
              "      let quickchartButtonEl =\n",
              "        document.querySelector('#df-7995002e-e07a-4533-addc-6c3f892b914a button');\n",
              "      quickchartButtonEl.style.display =\n",
              "        google.colab.kernel.accessAllowed ? 'block' : 'none';\n",
              "    })();\n",
              "  </script>\n",
              "</div>\n",
              "\n",
              "    </div>\n",
              "  </div>\n"
            ],
            "application/vnd.google.colaboratory.intrinsic+json": {
              "type": "dataframe",
              "summary": "{\n  \"name\": \"display(val_data\",\n  \"rows\": 5,\n  \"fields\": [\n    {\n      \"column\": \"User_ID\",\n      \"properties\": {\n        \"dtype\": \"number\",\n        \"std\": 0.7071067811865476,\n        \"min\": 1.0,\n        \"max\": 2.0,\n        \"num_unique_values\": 2,\n        \"samples\": [\n          2.0,\n          1.0\n        ],\n        \"semantic_type\": \"\",\n        \"description\": \"\"\n      }\n    },\n    {\n      \"column\": \"Age\",\n      \"properties\": {\n        \"dtype\": \"number\",\n        \"std\": 3.5355339059327378,\n        \"min\": 25.0,\n        \"max\": 30.0,\n        \"num_unique_values\": 2,\n        \"samples\": [\n          30.0,\n          25.0\n        ],\n        \"semantic_type\": \"\",\n        \"description\": \"\"\n      }\n    },\n    {\n      \"column\": \"Gender\",\n      \"properties\": {\n        \"dtype\": \"category\",\n        \"num_unique_values\": 2,\n        \"samples\": [\n          \"Male\",\n          \"Female\"\n        ],\n        \"semantic_type\": \"\",\n        \"description\": \"\"\n      }\n    },\n    {\n      \"column\": \"Platform\",\n      \"properties\": {\n        \"dtype\": \"category\",\n        \"num_unique_values\": 2,\n        \"samples\": [\n          \"Twitter\",\n          \"Instagram\"\n        ],\n        \"semantic_type\": \"\",\n        \"description\": \"\"\n      }\n    },\n    {\n      \"column\": \"Daily_Usage_Time (minutes)\",\n      \"properties\": {\n        \"dtype\": \"number\",\n        \"std\": 21.213203435596427,\n        \"min\": 90.0,\n        \"max\": 120.0,\n        \"num_unique_values\": 2,\n        \"samples\": [\n          90.0,\n          120.0\n        ],\n        \"semantic_type\": \"\",\n        \"description\": \"\"\n      }\n    },\n    {\n      \"column\": \"Posts_Per_Day\",\n      \"properties\": {\n        \"dtype\": \"number\",\n        \"std\": 1.4142135623730951,\n        \"min\": 3.0,\n        \"max\": 5.0,\n        \"num_unique_values\": 2,\n        \"samples\": [\n          5.0,\n          3.0\n        ],\n        \"semantic_type\": \"\",\n        \"description\": \"\"\n      }\n    },\n    {\n      \"column\": \"Likes_Received_Per_Day\",\n      \"properties\": {\n        \"dtype\": \"number\",\n        \"std\": 17.67766952966369,\n        \"min\": 20.0,\n        \"max\": 45.0,\n        \"num_unique_values\": 2,\n        \"samples\": [\n          20.0,\n          45.0\n        ],\n        \"semantic_type\": \"\",\n        \"description\": \"\"\n      }\n    },\n    {\n      \"column\": \"Comments_Received_Per_Day\",\n      \"properties\": {\n        \"dtype\": \"number\",\n        \"std\": 10.606601717798213,\n        \"min\": 10.0,\n        \"max\": 25.0,\n        \"num_unique_values\": 2,\n        \"samples\": [\n          25.0,\n          10.0\n        ],\n        \"semantic_type\": \"\",\n        \"description\": \"\"\n      }\n    },\n    {\n      \"column\": \"Messages_Sent_Per_Day\",\n      \"properties\": {\n        \"dtype\": \"number\",\n        \"std\": 12.727922061357855,\n        \"min\": 12.0,\n        \"max\": 30.0,\n        \"num_unique_values\": 2,\n        \"samples\": [\n          30.0,\n          12.0\n        ],\n        \"semantic_type\": \"\",\n        \"description\": \"\"\n      }\n    },\n    {\n      \"column\": \"Dominant_Emotion\",\n      \"properties\": {\n        \"dtype\": \"category\",\n        \"num_unique_values\": 2,\n        \"samples\": [\n          \"Anger\",\n          \"Happiness\"\n        ],\n        \"semantic_type\": \"\",\n        \"description\": \"\"\n      }\n    }\n  ]\n}"
            }
          },
          "metadata": {}
        },
        {
          "output_type": "stream",
          "name": "stdout",
          "text": [
            "\n",
            "Test Data:\n"
          ]
        },
        {
          "output_type": "display_data",
          "data": {
            "text/plain": [
              "   User_ID   Age      Gender  Platform  Daily_Usage_Time (minutes)  \\\n",
              "0      NaN   NaN         NaN       NaN                         NaN   \n",
              "1    500.0  27.0      Female  Snapchat                       120.0   \n",
              "2      NaN   NaN         NaN       NaN                         NaN   \n",
              "3    488.0  21.0  Non-binary  Snapchat                        60.0   \n",
              "4      NaN   NaN         NaN       NaN                         NaN   \n",
              "\n",
              "   Posts_Per_Day  Likes_Received_Per_Day  Comments_Received_Per_Day  \\\n",
              "0            NaN                     NaN                        NaN   \n",
              "1            4.0                    40.0                       18.0   \n",
              "2            NaN                     NaN                        NaN   \n",
              "3            1.0                    18.0                        7.0   \n",
              "4            NaN                     NaN                        NaN   \n",
              "\n",
              "   Messages_Sent_Per_Day Dominant_Emotion  \n",
              "0                    NaN              NaN  \n",
              "1                   22.0          Neutral  \n",
              "2                    NaN              NaN  \n",
              "3                   12.0          Neutral  \n",
              "4                    NaN              NaN  "
            ],
            "text/html": [
              "\n",
              "  <div id=\"df-01f6032f-ce9b-4193-92ba-4d4b811dafe8\" class=\"colab-df-container\">\n",
              "    <div>\n",
              "<style scoped>\n",
              "    .dataframe tbody tr th:only-of-type {\n",
              "        vertical-align: middle;\n",
              "    }\n",
              "\n",
              "    .dataframe tbody tr th {\n",
              "        vertical-align: top;\n",
              "    }\n",
              "\n",
              "    .dataframe thead th {\n",
              "        text-align: right;\n",
              "    }\n",
              "</style>\n",
              "<table border=\"1\" class=\"dataframe\">\n",
              "  <thead>\n",
              "    <tr style=\"text-align: right;\">\n",
              "      <th></th>\n",
              "      <th>User_ID</th>\n",
              "      <th>Age</th>\n",
              "      <th>Gender</th>\n",
              "      <th>Platform</th>\n",
              "      <th>Daily_Usage_Time (minutes)</th>\n",
              "      <th>Posts_Per_Day</th>\n",
              "      <th>Likes_Received_Per_Day</th>\n",
              "      <th>Comments_Received_Per_Day</th>\n",
              "      <th>Messages_Sent_Per_Day</th>\n",
              "      <th>Dominant_Emotion</th>\n",
              "    </tr>\n",
              "  </thead>\n",
              "  <tbody>\n",
              "    <tr>\n",
              "      <th>0</th>\n",
              "      <td>NaN</td>\n",
              "      <td>NaN</td>\n",
              "      <td>NaN</td>\n",
              "      <td>NaN</td>\n",
              "      <td>NaN</td>\n",
              "      <td>NaN</td>\n",
              "      <td>NaN</td>\n",
              "      <td>NaN</td>\n",
              "      <td>NaN</td>\n",
              "      <td>NaN</td>\n",
              "    </tr>\n",
              "    <tr>\n",
              "      <th>1</th>\n",
              "      <td>500.0</td>\n",
              "      <td>27.0</td>\n",
              "      <td>Female</td>\n",
              "      <td>Snapchat</td>\n",
              "      <td>120.0</td>\n",
              "      <td>4.0</td>\n",
              "      <td>40.0</td>\n",
              "      <td>18.0</td>\n",
              "      <td>22.0</td>\n",
              "      <td>Neutral</td>\n",
              "    </tr>\n",
              "    <tr>\n",
              "      <th>2</th>\n",
              "      <td>NaN</td>\n",
              "      <td>NaN</td>\n",
              "      <td>NaN</td>\n",
              "      <td>NaN</td>\n",
              "      <td>NaN</td>\n",
              "      <td>NaN</td>\n",
              "      <td>NaN</td>\n",
              "      <td>NaN</td>\n",
              "      <td>NaN</td>\n",
              "      <td>NaN</td>\n",
              "    </tr>\n",
              "    <tr>\n",
              "      <th>3</th>\n",
              "      <td>488.0</td>\n",
              "      <td>21.0</td>\n",
              "      <td>Non-binary</td>\n",
              "      <td>Snapchat</td>\n",
              "      <td>60.0</td>\n",
              "      <td>1.0</td>\n",
              "      <td>18.0</td>\n",
              "      <td>7.0</td>\n",
              "      <td>12.0</td>\n",
              "      <td>Neutral</td>\n",
              "    </tr>\n",
              "    <tr>\n",
              "      <th>4</th>\n",
              "      <td>NaN</td>\n",
              "      <td>NaN</td>\n",
              "      <td>NaN</td>\n",
              "      <td>NaN</td>\n",
              "      <td>NaN</td>\n",
              "      <td>NaN</td>\n",
              "      <td>NaN</td>\n",
              "      <td>NaN</td>\n",
              "      <td>NaN</td>\n",
              "      <td>NaN</td>\n",
              "    </tr>\n",
              "  </tbody>\n",
              "</table>\n",
              "</div>\n",
              "    <div class=\"colab-df-buttons\">\n",
              "\n",
              "  <div class=\"colab-df-container\">\n",
              "    <button class=\"colab-df-convert\" onclick=\"convertToInteractive('df-01f6032f-ce9b-4193-92ba-4d4b811dafe8')\"\n",
              "            title=\"Convert this dataframe to an interactive table.\"\n",
              "            style=\"display:none;\">\n",
              "\n",
              "  <svg xmlns=\"http://www.w3.org/2000/svg\" height=\"24px\" viewBox=\"0 -960 960 960\">\n",
              "    <path d=\"M120-120v-720h720v720H120Zm60-500h600v-160H180v160Zm220 220h160v-160H400v160Zm0 220h160v-160H400v160ZM180-400h160v-160H180v160Zm440 0h160v-160H620v160ZM180-180h160v-160H180v160Zm440 0h160v-160H620v160Z\"/>\n",
              "  </svg>\n",
              "    </button>\n",
              "\n",
              "  <style>\n",
              "    .colab-df-container {\n",
              "      display:flex;\n",
              "      gap: 12px;\n",
              "    }\n",
              "\n",
              "    .colab-df-convert {\n",
              "      background-color: #E8F0FE;\n",
              "      border: none;\n",
              "      border-radius: 50%;\n",
              "      cursor: pointer;\n",
              "      display: none;\n",
              "      fill: #1967D2;\n",
              "      height: 32px;\n",
              "      padding: 0 0 0 0;\n",
              "      width: 32px;\n",
              "    }\n",
              "\n",
              "    .colab-df-convert:hover {\n",
              "      background-color: #E2EBFA;\n",
              "      box-shadow: 0px 1px 2px rgba(60, 64, 67, 0.3), 0px 1px 3px 1px rgba(60, 64, 67, 0.15);\n",
              "      fill: #174EA6;\n",
              "    }\n",
              "\n",
              "    .colab-df-buttons div {\n",
              "      margin-bottom: 4px;\n",
              "    }\n",
              "\n",
              "    [theme=dark] .colab-df-convert {\n",
              "      background-color: #3B4455;\n",
              "      fill: #D2E3FC;\n",
              "    }\n",
              "\n",
              "    [theme=dark] .colab-df-convert:hover {\n",
              "      background-color: #434B5C;\n",
              "      box-shadow: 0px 1px 3px 1px rgba(0, 0, 0, 0.15);\n",
              "      filter: drop-shadow(0px 1px 2px rgba(0, 0, 0, 0.3));\n",
              "      fill: #FFFFFF;\n",
              "    }\n",
              "  </style>\n",
              "\n",
              "    <script>\n",
              "      const buttonEl =\n",
              "        document.querySelector('#df-01f6032f-ce9b-4193-92ba-4d4b811dafe8 button.colab-df-convert');\n",
              "      buttonEl.style.display =\n",
              "        google.colab.kernel.accessAllowed ? 'block' : 'none';\n",
              "\n",
              "      async function convertToInteractive(key) {\n",
              "        const element = document.querySelector('#df-01f6032f-ce9b-4193-92ba-4d4b811dafe8');\n",
              "        const dataTable =\n",
              "          await google.colab.kernel.invokeFunction('convertToInteractive',\n",
              "                                                    [key], {});\n",
              "        if (!dataTable) return;\n",
              "\n",
              "        const docLinkHtml = 'Like what you see? Visit the ' +\n",
              "          '<a target=\"_blank\" href=https://colab.research.google.com/notebooks/data_table.ipynb>data table notebook</a>'\n",
              "          + ' to learn more about interactive tables.';\n",
              "        element.innerHTML = '';\n",
              "        dataTable['output_type'] = 'display_data';\n",
              "        await google.colab.output.renderOutput(dataTable, element);\n",
              "        const docLink = document.createElement('div');\n",
              "        docLink.innerHTML = docLinkHtml;\n",
              "        element.appendChild(docLink);\n",
              "      }\n",
              "    </script>\n",
              "  </div>\n",
              "\n",
              "\n",
              "<div id=\"df-d65b00bf-27da-405d-b64d-106abe698bae\">\n",
              "  <button class=\"colab-df-quickchart\" onclick=\"quickchart('df-d65b00bf-27da-405d-b64d-106abe698bae')\"\n",
              "            title=\"Suggest charts\"\n",
              "            style=\"display:none;\">\n",
              "\n",
              "<svg xmlns=\"http://www.w3.org/2000/svg\" height=\"24px\"viewBox=\"0 0 24 24\"\n",
              "     width=\"24px\">\n",
              "    <g>\n",
              "        <path d=\"M19 3H5c-1.1 0-2 .9-2 2v14c0 1.1.9 2 2 2h14c1.1 0 2-.9 2-2V5c0-1.1-.9-2-2-2zM9 17H7v-7h2v7zm4 0h-2V7h2v10zm4 0h-2v-4h2v4z\"/>\n",
              "    </g>\n",
              "</svg>\n",
              "  </button>\n",
              "\n",
              "<style>\n",
              "  .colab-df-quickchart {\n",
              "      --bg-color: #E8F0FE;\n",
              "      --fill-color: #1967D2;\n",
              "      --hover-bg-color: #E2EBFA;\n",
              "      --hover-fill-color: #174EA6;\n",
              "      --disabled-fill-color: #AAA;\n",
              "      --disabled-bg-color: #DDD;\n",
              "  }\n",
              "\n",
              "  [theme=dark] .colab-df-quickchart {\n",
              "      --bg-color: #3B4455;\n",
              "      --fill-color: #D2E3FC;\n",
              "      --hover-bg-color: #434B5C;\n",
              "      --hover-fill-color: #FFFFFF;\n",
              "      --disabled-bg-color: #3B4455;\n",
              "      --disabled-fill-color: #666;\n",
              "  }\n",
              "\n",
              "  .colab-df-quickchart {\n",
              "    background-color: var(--bg-color);\n",
              "    border: none;\n",
              "    border-radius: 50%;\n",
              "    cursor: pointer;\n",
              "    display: none;\n",
              "    fill: var(--fill-color);\n",
              "    height: 32px;\n",
              "    padding: 0;\n",
              "    width: 32px;\n",
              "  }\n",
              "\n",
              "  .colab-df-quickchart:hover {\n",
              "    background-color: var(--hover-bg-color);\n",
              "    box-shadow: 0 1px 2px rgba(60, 64, 67, 0.3), 0 1px 3px 1px rgba(60, 64, 67, 0.15);\n",
              "    fill: var(--button-hover-fill-color);\n",
              "  }\n",
              "\n",
              "  .colab-df-quickchart-complete:disabled,\n",
              "  .colab-df-quickchart-complete:disabled:hover {\n",
              "    background-color: var(--disabled-bg-color);\n",
              "    fill: var(--disabled-fill-color);\n",
              "    box-shadow: none;\n",
              "  }\n",
              "\n",
              "  .colab-df-spinner {\n",
              "    border: 2px solid var(--fill-color);\n",
              "    border-color: transparent;\n",
              "    border-bottom-color: var(--fill-color);\n",
              "    animation:\n",
              "      spin 1s steps(1) infinite;\n",
              "  }\n",
              "\n",
              "  @keyframes spin {\n",
              "    0% {\n",
              "      border-color: transparent;\n",
              "      border-bottom-color: var(--fill-color);\n",
              "      border-left-color: var(--fill-color);\n",
              "    }\n",
              "    20% {\n",
              "      border-color: transparent;\n",
              "      border-left-color: var(--fill-color);\n",
              "      border-top-color: var(--fill-color);\n",
              "    }\n",
              "    30% {\n",
              "      border-color: transparent;\n",
              "      border-left-color: var(--fill-color);\n",
              "      border-top-color: var(--fill-color);\n",
              "      border-right-color: var(--fill-color);\n",
              "    }\n",
              "    40% {\n",
              "      border-color: transparent;\n",
              "      border-right-color: var(--fill-color);\n",
              "      border-top-color: var(--fill-color);\n",
              "    }\n",
              "    60% {\n",
              "      border-color: transparent;\n",
              "      border-right-color: var(--fill-color);\n",
              "    }\n",
              "    80% {\n",
              "      border-color: transparent;\n",
              "      border-right-color: var(--fill-color);\n",
              "      border-bottom-color: var(--fill-color);\n",
              "    }\n",
              "    90% {\n",
              "      border-color: transparent;\n",
              "      border-bottom-color: var(--fill-color);\n",
              "    }\n",
              "  }\n",
              "</style>\n",
              "\n",
              "  <script>\n",
              "    async function quickchart(key) {\n",
              "      const quickchartButtonEl =\n",
              "        document.querySelector('#' + key + ' button');\n",
              "      quickchartButtonEl.disabled = true;  // To prevent multiple clicks.\n",
              "      quickchartButtonEl.classList.add('colab-df-spinner');\n",
              "      try {\n",
              "        const charts = await google.colab.kernel.invokeFunction(\n",
              "            'suggestCharts', [key], {});\n",
              "      } catch (error) {\n",
              "        console.error('Error during call to suggestCharts:', error);\n",
              "      }\n",
              "      quickchartButtonEl.classList.remove('colab-df-spinner');\n",
              "      quickchartButtonEl.classList.add('colab-df-quickchart-complete');\n",
              "    }\n",
              "    (() => {\n",
              "      let quickchartButtonEl =\n",
              "        document.querySelector('#df-d65b00bf-27da-405d-b64d-106abe698bae button');\n",
              "      quickchartButtonEl.style.display =\n",
              "        google.colab.kernel.accessAllowed ? 'block' : 'none';\n",
              "    })();\n",
              "  </script>\n",
              "</div>\n",
              "\n",
              "    </div>\n",
              "  </div>\n"
            ],
            "application/vnd.google.colaboratory.intrinsic+json": {
              "type": "dataframe",
              "summary": "{\n  \"name\": \"display(val_data\",\n  \"rows\": 5,\n  \"fields\": [\n    {\n      \"column\": \"User_ID\",\n      \"properties\": {\n        \"dtype\": \"number\",\n        \"std\": 8.48528137423857,\n        \"min\": 488.0,\n        \"max\": 500.0,\n        \"num_unique_values\": 2,\n        \"samples\": [\n          488.0,\n          500.0\n        ],\n        \"semantic_type\": \"\",\n        \"description\": \"\"\n      }\n    },\n    {\n      \"column\": \"Age\",\n      \"properties\": {\n        \"dtype\": \"number\",\n        \"std\": 4.242640687119285,\n        \"min\": 21.0,\n        \"max\": 27.0,\n        \"num_unique_values\": 2,\n        \"samples\": [\n          21.0,\n          27.0\n        ],\n        \"semantic_type\": \"\",\n        \"description\": \"\"\n      }\n    },\n    {\n      \"column\": \"Gender\",\n      \"properties\": {\n        \"dtype\": \"category\",\n        \"num_unique_values\": 2,\n        \"samples\": [\n          \"Non-binary\",\n          \"Female\"\n        ],\n        \"semantic_type\": \"\",\n        \"description\": \"\"\n      }\n    },\n    {\n      \"column\": \"Platform\",\n      \"properties\": {\n        \"dtype\": \"category\",\n        \"num_unique_values\": 1,\n        \"samples\": [\n          \"Snapchat\"\n        ],\n        \"semantic_type\": \"\",\n        \"description\": \"\"\n      }\n    },\n    {\n      \"column\": \"Daily_Usage_Time (minutes)\",\n      \"properties\": {\n        \"dtype\": \"number\",\n        \"std\": 42.42640687119285,\n        \"min\": 60.0,\n        \"max\": 120.0,\n        \"num_unique_values\": 2,\n        \"samples\": [\n          60.0\n        ],\n        \"semantic_type\": \"\",\n        \"description\": \"\"\n      }\n    },\n    {\n      \"column\": \"Posts_Per_Day\",\n      \"properties\": {\n        \"dtype\": \"number\",\n        \"std\": 2.1213203435596424,\n        \"min\": 1.0,\n        \"max\": 4.0,\n        \"num_unique_values\": 2,\n        \"samples\": [\n          1.0\n        ],\n        \"semantic_type\": \"\",\n        \"description\": \"\"\n      }\n    },\n    {\n      \"column\": \"Likes_Received_Per_Day\",\n      \"properties\": {\n        \"dtype\": \"number\",\n        \"std\": 15.556349186104045,\n        \"min\": 18.0,\n        \"max\": 40.0,\n        \"num_unique_values\": 2,\n        \"samples\": [\n          18.0\n        ],\n        \"semantic_type\": \"\",\n        \"description\": \"\"\n      }\n    },\n    {\n      \"column\": \"Comments_Received_Per_Day\",\n      \"properties\": {\n        \"dtype\": \"number\",\n        \"std\": 7.7781745930520225,\n        \"min\": 7.0,\n        \"max\": 18.0,\n        \"num_unique_values\": 2,\n        \"samples\": [\n          7.0\n        ],\n        \"semantic_type\": \"\",\n        \"description\": \"\"\n      }\n    },\n    {\n      \"column\": \"Messages_Sent_Per_Day\",\n      \"properties\": {\n        \"dtype\": \"number\",\n        \"std\": 7.0710678118654755,\n        \"min\": 12.0,\n        \"max\": 22.0,\n        \"num_unique_values\": 2,\n        \"samples\": [\n          12.0\n        ],\n        \"semantic_type\": \"\",\n        \"description\": \"\"\n      }\n    },\n    {\n      \"column\": \"Dominant_Emotion\",\n      \"properties\": {\n        \"dtype\": \"category\",\n        \"num_unique_values\": 1,\n        \"samples\": [\n          \"Neutral\"\n        ],\n        \"semantic_type\": \"\",\n        \"description\": \"\"\n      }\n    }\n  ]\n}"
            }
          },
          "metadata": {}
        },
        {
          "output_type": "stream",
          "name": "stdout",
          "text": [
            "\n",
            "Validation Data:\n"
          ]
        },
        {
          "output_type": "display_data",
          "data": {
            "text/plain": [
              "   User_ID   Age  Gender   Platform  Daily_Usage_Time (minutes)  \\\n",
              "0      NaN   NaN     NaN        NaN                         NaN   \n",
              "1     10.0  31.0    Male  Instagram                       170.0   \n",
              "2      NaN   NaN     NaN        NaN                         NaN   \n",
              "3    877.0  32.0  Female  Instagram                       155.0   \n",
              "4      NaN   NaN     NaN        NaN                         NaN   \n",
              "\n",
              "   Posts_Per_Day  Likes_Received_Per_Day  Comments_Received_Per_Day  \\\n",
              "0            NaN                     NaN                        NaN   \n",
              "1            5.0                    80.0                       20.0   \n",
              "2            NaN                     NaN                        NaN   \n",
              "3            6.0                    75.0                       25.0   \n",
              "4            NaN                     NaN                        NaN   \n",
              "\n",
              "   Messages_Sent_Per_Day Dominant_Emotion  \n",
              "0                    NaN              NaN  \n",
              "1                   35.0        Happiness  \n",
              "2                    NaN              NaN  \n",
              "3                   38.0        Happiness  \n",
              "4                    NaN              NaN  "
            ],
            "text/html": [
              "\n",
              "  <div id=\"df-82fcb491-8705-49c0-9b44-f716095da64f\" class=\"colab-df-container\">\n",
              "    <div>\n",
              "<style scoped>\n",
              "    .dataframe tbody tr th:only-of-type {\n",
              "        vertical-align: middle;\n",
              "    }\n",
              "\n",
              "    .dataframe tbody tr th {\n",
              "        vertical-align: top;\n",
              "    }\n",
              "\n",
              "    .dataframe thead th {\n",
              "        text-align: right;\n",
              "    }\n",
              "</style>\n",
              "<table border=\"1\" class=\"dataframe\">\n",
              "  <thead>\n",
              "    <tr style=\"text-align: right;\">\n",
              "      <th></th>\n",
              "      <th>User_ID</th>\n",
              "      <th>Age</th>\n",
              "      <th>Gender</th>\n",
              "      <th>Platform</th>\n",
              "      <th>Daily_Usage_Time (minutes)</th>\n",
              "      <th>Posts_Per_Day</th>\n",
              "      <th>Likes_Received_Per_Day</th>\n",
              "      <th>Comments_Received_Per_Day</th>\n",
              "      <th>Messages_Sent_Per_Day</th>\n",
              "      <th>Dominant_Emotion</th>\n",
              "    </tr>\n",
              "  </thead>\n",
              "  <tbody>\n",
              "    <tr>\n",
              "      <th>0</th>\n",
              "      <td>NaN</td>\n",
              "      <td>NaN</td>\n",
              "      <td>NaN</td>\n",
              "      <td>NaN</td>\n",
              "      <td>NaN</td>\n",
              "      <td>NaN</td>\n",
              "      <td>NaN</td>\n",
              "      <td>NaN</td>\n",
              "      <td>NaN</td>\n",
              "      <td>NaN</td>\n",
              "    </tr>\n",
              "    <tr>\n",
              "      <th>1</th>\n",
              "      <td>10.0</td>\n",
              "      <td>31.0</td>\n",
              "      <td>Male</td>\n",
              "      <td>Instagram</td>\n",
              "      <td>170.0</td>\n",
              "      <td>5.0</td>\n",
              "      <td>80.0</td>\n",
              "      <td>20.0</td>\n",
              "      <td>35.0</td>\n",
              "      <td>Happiness</td>\n",
              "    </tr>\n",
              "    <tr>\n",
              "      <th>2</th>\n",
              "      <td>NaN</td>\n",
              "      <td>NaN</td>\n",
              "      <td>NaN</td>\n",
              "      <td>NaN</td>\n",
              "      <td>NaN</td>\n",
              "      <td>NaN</td>\n",
              "      <td>NaN</td>\n",
              "      <td>NaN</td>\n",
              "      <td>NaN</td>\n",
              "      <td>NaN</td>\n",
              "    </tr>\n",
              "    <tr>\n",
              "      <th>3</th>\n",
              "      <td>877.0</td>\n",
              "      <td>32.0</td>\n",
              "      <td>Female</td>\n",
              "      <td>Instagram</td>\n",
              "      <td>155.0</td>\n",
              "      <td>6.0</td>\n",
              "      <td>75.0</td>\n",
              "      <td>25.0</td>\n",
              "      <td>38.0</td>\n",
              "      <td>Happiness</td>\n",
              "    </tr>\n",
              "    <tr>\n",
              "      <th>4</th>\n",
              "      <td>NaN</td>\n",
              "      <td>NaN</td>\n",
              "      <td>NaN</td>\n",
              "      <td>NaN</td>\n",
              "      <td>NaN</td>\n",
              "      <td>NaN</td>\n",
              "      <td>NaN</td>\n",
              "      <td>NaN</td>\n",
              "      <td>NaN</td>\n",
              "      <td>NaN</td>\n",
              "    </tr>\n",
              "  </tbody>\n",
              "</table>\n",
              "</div>\n",
              "    <div class=\"colab-df-buttons\">\n",
              "\n",
              "  <div class=\"colab-df-container\">\n",
              "    <button class=\"colab-df-convert\" onclick=\"convertToInteractive('df-82fcb491-8705-49c0-9b44-f716095da64f')\"\n",
              "            title=\"Convert this dataframe to an interactive table.\"\n",
              "            style=\"display:none;\">\n",
              "\n",
              "  <svg xmlns=\"http://www.w3.org/2000/svg\" height=\"24px\" viewBox=\"0 -960 960 960\">\n",
              "    <path d=\"M120-120v-720h720v720H120Zm60-500h600v-160H180v160Zm220 220h160v-160H400v160Zm0 220h160v-160H400v160ZM180-400h160v-160H180v160Zm440 0h160v-160H620v160ZM180-180h160v-160H180v160Zm440 0h160v-160H620v160Z\"/>\n",
              "  </svg>\n",
              "    </button>\n",
              "\n",
              "  <style>\n",
              "    .colab-df-container {\n",
              "      display:flex;\n",
              "      gap: 12px;\n",
              "    }\n",
              "\n",
              "    .colab-df-convert {\n",
              "      background-color: #E8F0FE;\n",
              "      border: none;\n",
              "      border-radius: 50%;\n",
              "      cursor: pointer;\n",
              "      display: none;\n",
              "      fill: #1967D2;\n",
              "      height: 32px;\n",
              "      padding: 0 0 0 0;\n",
              "      width: 32px;\n",
              "    }\n",
              "\n",
              "    .colab-df-convert:hover {\n",
              "      background-color: #E2EBFA;\n",
              "      box-shadow: 0px 1px 2px rgba(60, 64, 67, 0.3), 0px 1px 3px 1px rgba(60, 64, 67, 0.15);\n",
              "      fill: #174EA6;\n",
              "    }\n",
              "\n",
              "    .colab-df-buttons div {\n",
              "      margin-bottom: 4px;\n",
              "    }\n",
              "\n",
              "    [theme=dark] .colab-df-convert {\n",
              "      background-color: #3B4455;\n",
              "      fill: #D2E3FC;\n",
              "    }\n",
              "\n",
              "    [theme=dark] .colab-df-convert:hover {\n",
              "      background-color: #434B5C;\n",
              "      box-shadow: 0px 1px 3px 1px rgba(0, 0, 0, 0.15);\n",
              "      filter: drop-shadow(0px 1px 2px rgba(0, 0, 0, 0.3));\n",
              "      fill: #FFFFFF;\n",
              "    }\n",
              "  </style>\n",
              "\n",
              "    <script>\n",
              "      const buttonEl =\n",
              "        document.querySelector('#df-82fcb491-8705-49c0-9b44-f716095da64f button.colab-df-convert');\n",
              "      buttonEl.style.display =\n",
              "        google.colab.kernel.accessAllowed ? 'block' : 'none';\n",
              "\n",
              "      async function convertToInteractive(key) {\n",
              "        const element = document.querySelector('#df-82fcb491-8705-49c0-9b44-f716095da64f');\n",
              "        const dataTable =\n",
              "          await google.colab.kernel.invokeFunction('convertToInteractive',\n",
              "                                                    [key], {});\n",
              "        if (!dataTable) return;\n",
              "\n",
              "        const docLinkHtml = 'Like what you see? Visit the ' +\n",
              "          '<a target=\"_blank\" href=https://colab.research.google.com/notebooks/data_table.ipynb>data table notebook</a>'\n",
              "          + ' to learn more about interactive tables.';\n",
              "        element.innerHTML = '';\n",
              "        dataTable['output_type'] = 'display_data';\n",
              "        await google.colab.output.renderOutput(dataTable, element);\n",
              "        const docLink = document.createElement('div');\n",
              "        docLink.innerHTML = docLinkHtml;\n",
              "        element.appendChild(docLink);\n",
              "      }\n",
              "    </script>\n",
              "  </div>\n",
              "\n",
              "\n",
              "<div id=\"df-61fb1bf7-9c74-40d9-93cc-a5f5d076e2f5\">\n",
              "  <button class=\"colab-df-quickchart\" onclick=\"quickchart('df-61fb1bf7-9c74-40d9-93cc-a5f5d076e2f5')\"\n",
              "            title=\"Suggest charts\"\n",
              "            style=\"display:none;\">\n",
              "\n",
              "<svg xmlns=\"http://www.w3.org/2000/svg\" height=\"24px\"viewBox=\"0 0 24 24\"\n",
              "     width=\"24px\">\n",
              "    <g>\n",
              "        <path d=\"M19 3H5c-1.1 0-2 .9-2 2v14c0 1.1.9 2 2 2h14c1.1 0 2-.9 2-2V5c0-1.1-.9-2-2-2zM9 17H7v-7h2v7zm4 0h-2V7h2v10zm4 0h-2v-4h2v4z\"/>\n",
              "    </g>\n",
              "</svg>\n",
              "  </button>\n",
              "\n",
              "<style>\n",
              "  .colab-df-quickchart {\n",
              "      --bg-color: #E8F0FE;\n",
              "      --fill-color: #1967D2;\n",
              "      --hover-bg-color: #E2EBFA;\n",
              "      --hover-fill-color: #174EA6;\n",
              "      --disabled-fill-color: #AAA;\n",
              "      --disabled-bg-color: #DDD;\n",
              "  }\n",
              "\n",
              "  [theme=dark] .colab-df-quickchart {\n",
              "      --bg-color: #3B4455;\n",
              "      --fill-color: #D2E3FC;\n",
              "      --hover-bg-color: #434B5C;\n",
              "      --hover-fill-color: #FFFFFF;\n",
              "      --disabled-bg-color: #3B4455;\n",
              "      --disabled-fill-color: #666;\n",
              "  }\n",
              "\n",
              "  .colab-df-quickchart {\n",
              "    background-color: var(--bg-color);\n",
              "    border: none;\n",
              "    border-radius: 50%;\n",
              "    cursor: pointer;\n",
              "    display: none;\n",
              "    fill: var(--fill-color);\n",
              "    height: 32px;\n",
              "    padding: 0;\n",
              "    width: 32px;\n",
              "  }\n",
              "\n",
              "  .colab-df-quickchart:hover {\n",
              "    background-color: var(--hover-bg-color);\n",
              "    box-shadow: 0 1px 2px rgba(60, 64, 67, 0.3), 0 1px 3px 1px rgba(60, 64, 67, 0.15);\n",
              "    fill: var(--button-hover-fill-color);\n",
              "  }\n",
              "\n",
              "  .colab-df-quickchart-complete:disabled,\n",
              "  .colab-df-quickchart-complete:disabled:hover {\n",
              "    background-color: var(--disabled-bg-color);\n",
              "    fill: var(--disabled-fill-color);\n",
              "    box-shadow: none;\n",
              "  }\n",
              "\n",
              "  .colab-df-spinner {\n",
              "    border: 2px solid var(--fill-color);\n",
              "    border-color: transparent;\n",
              "    border-bottom-color: var(--fill-color);\n",
              "    animation:\n",
              "      spin 1s steps(1) infinite;\n",
              "  }\n",
              "\n",
              "  @keyframes spin {\n",
              "    0% {\n",
              "      border-color: transparent;\n",
              "      border-bottom-color: var(--fill-color);\n",
              "      border-left-color: var(--fill-color);\n",
              "    }\n",
              "    20% {\n",
              "      border-color: transparent;\n",
              "      border-left-color: var(--fill-color);\n",
              "      border-top-color: var(--fill-color);\n",
              "    }\n",
              "    30% {\n",
              "      border-color: transparent;\n",
              "      border-left-color: var(--fill-color);\n",
              "      border-top-color: var(--fill-color);\n",
              "      border-right-color: var(--fill-color);\n",
              "    }\n",
              "    40% {\n",
              "      border-color: transparent;\n",
              "      border-right-color: var(--fill-color);\n",
              "      border-top-color: var(--fill-color);\n",
              "    }\n",
              "    60% {\n",
              "      border-color: transparent;\n",
              "      border-right-color: var(--fill-color);\n",
              "    }\n",
              "    80% {\n",
              "      border-color: transparent;\n",
              "      border-right-color: var(--fill-color);\n",
              "      border-bottom-color: var(--fill-color);\n",
              "    }\n",
              "    90% {\n",
              "      border-color: transparent;\n",
              "      border-bottom-color: var(--fill-color);\n",
              "    }\n",
              "  }\n",
              "</style>\n",
              "\n",
              "  <script>\n",
              "    async function quickchart(key) {\n",
              "      const quickchartButtonEl =\n",
              "        document.querySelector('#' + key + ' button');\n",
              "      quickchartButtonEl.disabled = true;  // To prevent multiple clicks.\n",
              "      quickchartButtonEl.classList.add('colab-df-spinner');\n",
              "      try {\n",
              "        const charts = await google.colab.kernel.invokeFunction(\n",
              "            'suggestCharts', [key], {});\n",
              "      } catch (error) {\n",
              "        console.error('Error during call to suggestCharts:', error);\n",
              "      }\n",
              "      quickchartButtonEl.classList.remove('colab-df-spinner');\n",
              "      quickchartButtonEl.classList.add('colab-df-quickchart-complete');\n",
              "    }\n",
              "    (() => {\n",
              "      let quickchartButtonEl =\n",
              "        document.querySelector('#df-61fb1bf7-9c74-40d9-93cc-a5f5d076e2f5 button');\n",
              "      quickchartButtonEl.style.display =\n",
              "        google.colab.kernel.accessAllowed ? 'block' : 'none';\n",
              "    })();\n",
              "  </script>\n",
              "</div>\n",
              "\n",
              "    </div>\n",
              "  </div>\n"
            ],
            "application/vnd.google.colaboratory.intrinsic+json": {
              "type": "dataframe",
              "summary": "{\n  \"name\": \"display(val_data\",\n  \"rows\": 5,\n  \"fields\": [\n    {\n      \"column\": \"User_ID\",\n      \"properties\": {\n        \"dtype\": \"number\",\n        \"std\": 613.0615792887367,\n        \"min\": 10.0,\n        \"max\": 877.0,\n        \"num_unique_values\": 2,\n        \"samples\": [\n          877.0,\n          10.0\n        ],\n        \"semantic_type\": \"\",\n        \"description\": \"\"\n      }\n    },\n    {\n      \"column\": \"Age\",\n      \"properties\": {\n        \"dtype\": \"number\",\n        \"std\": 0.7071067811865476,\n        \"min\": 31.0,\n        \"max\": 32.0,\n        \"num_unique_values\": 2,\n        \"samples\": [\n          32.0,\n          31.0\n        ],\n        \"semantic_type\": \"\",\n        \"description\": \"\"\n      }\n    },\n    {\n      \"column\": \"Gender\",\n      \"properties\": {\n        \"dtype\": \"category\",\n        \"num_unique_values\": 2,\n        \"samples\": [\n          \"Female\",\n          \"Male\"\n        ],\n        \"semantic_type\": \"\",\n        \"description\": \"\"\n      }\n    },\n    {\n      \"column\": \"Platform\",\n      \"properties\": {\n        \"dtype\": \"category\",\n        \"num_unique_values\": 1,\n        \"samples\": [\n          \"Instagram\"\n        ],\n        \"semantic_type\": \"\",\n        \"description\": \"\"\n      }\n    },\n    {\n      \"column\": \"Daily_Usage_Time (minutes)\",\n      \"properties\": {\n        \"dtype\": \"number\",\n        \"std\": 10.606601717798213,\n        \"min\": 155.0,\n        \"max\": 170.0,\n        \"num_unique_values\": 2,\n        \"samples\": [\n          155.0\n        ],\n        \"semantic_type\": \"\",\n        \"description\": \"\"\n      }\n    },\n    {\n      \"column\": \"Posts_Per_Day\",\n      \"properties\": {\n        \"dtype\": \"number\",\n        \"std\": 0.7071067811865476,\n        \"min\": 5.0,\n        \"max\": 6.0,\n        \"num_unique_values\": 2,\n        \"samples\": [\n          6.0\n        ],\n        \"semantic_type\": \"\",\n        \"description\": \"\"\n      }\n    },\n    {\n      \"column\": \"Likes_Received_Per_Day\",\n      \"properties\": {\n        \"dtype\": \"number\",\n        \"std\": 3.5355339059327378,\n        \"min\": 75.0,\n        \"max\": 80.0,\n        \"num_unique_values\": 2,\n        \"samples\": [\n          75.0\n        ],\n        \"semantic_type\": \"\",\n        \"description\": \"\"\n      }\n    },\n    {\n      \"column\": \"Comments_Received_Per_Day\",\n      \"properties\": {\n        \"dtype\": \"number\",\n        \"std\": 3.5355339059327378,\n        \"min\": 20.0,\n        \"max\": 25.0,\n        \"num_unique_values\": 2,\n        \"samples\": [\n          25.0\n        ],\n        \"semantic_type\": \"\",\n        \"description\": \"\"\n      }\n    },\n    {\n      \"column\": \"Messages_Sent_Per_Day\",\n      \"properties\": {\n        \"dtype\": \"number\",\n        \"std\": 2.1213203435596424,\n        \"min\": 35.0,\n        \"max\": 38.0,\n        \"num_unique_values\": 2,\n        \"samples\": [\n          38.0\n        ],\n        \"semantic_type\": \"\",\n        \"description\": \"\"\n      }\n    },\n    {\n      \"column\": \"Dominant_Emotion\",\n      \"properties\": {\n        \"dtype\": \"category\",\n        \"num_unique_values\": 1,\n        \"samples\": [\n          \"Happiness\"\n        ],\n        \"semantic_type\": \"\",\n        \"description\": \"\"\n      }\n    }\n  ]\n}"
            }
          },
          "metadata": {}
        }
      ],
      "source": [
        "# Import necessary libraries\n",
        "import pandas as pd\n",
        "import numpy as np\n",
        "import matplotlib.pyplot as plt\n",
        "import seaborn as sns\n",
        "\n",
        "# Load the datasets\n",
        "train_data = pd.read_csv('/content/train.csv')\n",
        "test_data = pd.read_csv('/content/test.csv')\n",
        "val_data = pd.read_csv('/content/val.csv')\n",
        "\n",
        "# Display the first few rows of each dataset\n",
        "print(\"Train Data:\")\n",
        "display(train_data.head())\n",
        "print(\"\\nTest Data:\")\n",
        "display(test_data.head())\n",
        "print(\"\\nValidation Data:\")\n",
        "display(val_data.head())\n"
      ]
    },
    {
      "cell_type": "markdown",
      "source": [
        "**2.2 Data Exploration**"
      ],
      "metadata": {
        "id": "ZGX3AU1XCh2s"
      }
    },
    {
      "cell_type": "markdown",
      "source": [
        "Check for data types, missing values, and basic statistics."
      ],
      "metadata": {
        "id": "XMks9IVm3YJ8"
      }
    },
    {
      "cell_type": "markdown",
      "source": [
        "**Summary Statistics**"
      ],
      "metadata": {
        "id": "4Yf7SiBXCuqy"
      }
    },
    {
      "cell_type": "code",
      "source": [
        "# Data Overview\n",
        "print(\"Train Data Info:\")\n",
        "train_data.info()\n",
        "print(\"\\nTrain Data Description:\")\n",
        "print(train_data.describe())\n",
        "\n",
        "# Check for missing values\n",
        "print(\"\\nMissing Values in Train Data:\")\n",
        "print(train_data.isnull().sum())\n"
      ],
      "metadata": {
        "colab": {
          "base_uri": "https://localhost:8080/"
        },
        "id": "vLmqtzR03biU",
        "outputId": "0a7b0f32-c99c-454e-9e5a-2f4cdd08278e"
      },
      "execution_count": 3,
      "outputs": [
        {
          "output_type": "stream",
          "name": "stdout",
          "text": [
            "Train Data Info:\n",
            "<class 'pandas.core.frame.DataFrame'>\n",
            "RangeIndex: 2000 entries, 0 to 1999\n",
            "Data columns (total 10 columns):\n",
            " #   Column                      Non-Null Count  Dtype  \n",
            "---  ------                      --------------  -----  \n",
            " 0   User_ID                     1000 non-null   float64\n",
            " 1   Age                         1000 non-null   float64\n",
            " 2   Gender                      1000 non-null   object \n",
            " 3   Platform                    1000 non-null   object \n",
            " 4   Daily_Usage_Time (minutes)  1000 non-null   float64\n",
            " 5   Posts_Per_Day               1000 non-null   float64\n",
            " 6   Likes_Received_Per_Day      1000 non-null   float64\n",
            " 7   Comments_Received_Per_Day   1000 non-null   float64\n",
            " 8   Messages_Sent_Per_Day       1000 non-null   float64\n",
            " 9   Dominant_Emotion            1000 non-null   object \n",
            "dtypes: float64(7), object(3)\n",
            "memory usage: 156.4+ KB\n",
            "\n",
            "Train Data Description:\n",
            "           User_ID          Age  Daily_Usage_Time (minutes)  Posts_Per_Day  \\\n",
            "count  1000.000000  1000.000000                 1000.000000    1000.000000   \n",
            "mean    500.500000    27.510000                   95.950000       3.321000   \n",
            "std     288.819436     3.930057                   38.850442       1.914582   \n",
            "min       1.000000    21.000000                   40.000000       1.000000   \n",
            "25%     250.750000    24.000000                   65.000000       2.000000   \n",
            "50%     500.500000    27.500000                   85.000000       3.000000   \n",
            "75%     750.250000    30.250000                  120.000000       4.000000   \n",
            "max    1000.000000    35.000000                  200.000000       8.000000   \n",
            "\n",
            "       Likes_Received_Per_Day  Comments_Received_Per_Day  \\\n",
            "count             1000.000000                1000.000000   \n",
            "mean                39.898000                  15.611000   \n",
            "std                 26.393867                   8.819493   \n",
            "min                  5.000000                   2.000000   \n",
            "25%                 20.000000                   8.000000   \n",
            "50%                 33.000000                  14.000000   \n",
            "75%                 55.000000                  22.000000   \n",
            "max                110.000000                  40.000000   \n",
            "\n",
            "       Messages_Sent_Per_Day  \n",
            "count            1000.000000  \n",
            "mean               22.560000  \n",
            "std                 8.516274  \n",
            "min                 8.000000  \n",
            "25%                17.750000  \n",
            "50%                22.000000  \n",
            "75%                28.000000  \n",
            "max                50.000000  \n",
            "\n",
            "Missing Values in Train Data:\n",
            "User_ID                       1000\n",
            "Age                           1000\n",
            "Gender                        1000\n",
            "Platform                      1000\n",
            "Daily_Usage_Time (minutes)    1000\n",
            "Posts_Per_Day                 1000\n",
            "Likes_Received_Per_Day        1000\n",
            "Comments_Received_Per_Day     1000\n",
            "Messages_Sent_Per_Day         1000\n",
            "Dominant_Emotion              1000\n",
            "dtype: int64\n"
          ]
        }
      ]
    },
    {
      "cell_type": "markdown",
      "source": [
        "**Data Distribution Visualization**"
      ],
      "metadata": {
        "id": "a1J8s-R4CzMK"
      }
    },
    {
      "cell_type": "markdown",
      "source": [
        "Plot histograms or box plots to view distributions, identify outliers, and understand variable ranges."
      ],
      "metadata": {
        "id": "a-s6-NR13im7"
      }
    },
    {
      "cell_type": "code",
      "source": [
        "# Visualize distributions for numerical columns\n",
        "num_cols = ['Age', 'Daily_Usage_Time (minutes)', 'Posts_Per_Day',\n",
        "            'Likes_Received_Per_Day', 'Comments_Received_Per_Day', 'Messages_Sent_Per_Day']\n",
        "\n",
        "train_data[num_cols].hist(bins=15, figsize=(15, 10))\n",
        "plt.show()\n"
      ],
      "metadata": {
        "colab": {
          "base_uri": "https://localhost:8080/",
          "height": 508
        },
        "id": "rs5GhTnf3j_0",
        "outputId": "11dc09bd-03f9-45fc-fff6-5d32c7d28be3"
      },
      "execution_count": 4,
      "outputs": [
        {
          "output_type": "display_data",
          "data": {
            "text/plain": [
              "<Figure size 1500x1000 with 6 Axes>"
            ],
            "image/png": "[encoded data removed]"
          },
          "metadata": {}
        }
      ]
    },
    {
      "cell_type": "markdown",
      "source": [
        "**Categorical Feature Distribution**"
      ],
      "metadata": {
        "id": "h56kZrrTDCKc"
      }
    },
    {
      "cell_type": "code",
      "source": [
        "# Visualize categorical features\n",
        "plt.figure(figsize=(10, 6))\n",
        "sns.countplot(data=train_data, x='Gender')\n",
        "plt.title('Gender Distribution')\n",
        "plt.show()\n",
        "\n",
        "plt.figure(figsize=(10, 6))\n",
        "sns.countplot(data=train_data, x='Platform')\n",
        "plt.title('Platform Distribution')\n",
        "plt.show()\n"
      ],
      "metadata": {
        "colab": {
          "base_uri": "https://localhost:8080/",
          "height": 937
        },
        "id": "e8k61RYh3p2r",
        "outputId": "7274f1a7-9b45-40e9-f405-f86b47716dd0"
      },
      "execution_count": 5,
      "outputs": [
        {
          "output_type": "display_data",
          "data": {
            "text/plain": [
              "<Figure size 1000x600 with 1 Axes>"
            ],
            "image/png": "[encoded data removed]"
          },
          "metadata": {}
        },
        {
          "output_type": "display_data",
          "data": {
            "text/plain": [
              "<Figure size 1000x600 with 1 Axes>"
            ],
            "image/png": "[encoded data removed]"
          },
          "metadata": {}
        }
      ]
    },
    {
      "cell_type": "markdown",
      "source": [
        "**Correlation Heatmap**"
      ],
      "metadata": {
        "id": "SUEuIuB0DJ5L"
      }
    },
    {
      "cell_type": "code",
      "source": [
        "# Import seaborn for heatmap\n",
        "import seaborn as sns\n",
        "import matplotlib.pyplot as plt\n",
        "\n",
        "# Calculate correlation matrix for numerical features\n",
        "correlation_matrix = train_data[['Age', 'Daily_Usage_Time (minutes)', 'Posts_Per_Day',\n",
        "                                 'Likes_Received_Per_Day', 'Comments_Received_Per_Day',\n",
        "                                 'Messages_Sent_Per_Day']].corr()\n",
        "\n",
        "# Plot heatmap\n",
        "plt.figure(figsize=(10, 8))\n",
        "sns.heatmap(correlation_matrix, annot=True, cmap='coolwarm', fmt=\".2f\")\n",
        "plt.title(\"Correlation Heatmap of Numerical Features\")\n",
        "plt.show()\n"
      ],
      "metadata": {
        "colab": {
          "base_uri": "https://localhost:8080/",
          "height": 671
        },
        "id": "pEUD1plGZ6Tr",
        "outputId": "af68f0b0-b7fa-47bf-c95e-36295a12cdb1"
      },
      "execution_count": 18,
      "outputs": [
        {
          "output_type": "display_data",
          "data": {
            "text/plain": [
              "<Figure size 1000x800 with 2 Axes>"
            ],
            "image/png": "[encoded data removed]"
          },
          "metadata": {}
        }
      ]
    },
    {
      "cell_type": "markdown",
      "source": [
        "### **3. Data Preprocessing**"
      ],
      "metadata": {
        "id": "OZy-N4BhDVOh"
      }
    },
    {
      "cell_type": "markdown",
      "source": [
        "**3.1 Data Cleaning**"
      ],
      "metadata": {
        "id": "RUvIWWw83pRc"
      }
    },
    {
      "cell_type": "markdown",
      "source": [
        "Remove inconsistencies and handle missing values by filling numerical columns with the median and categorical columns with the mode."
      ],
      "metadata": {
        "id": "Q9qcjpvn4N8D"
      }
    },
    {
      "cell_type": "code",
      "source": [
        "# Remove rows with all missing values\n",
        "train_data = train_data.dropna(how='all').reset_index(drop=True)\n",
        "test_data = test_data.dropna(how='all').reset_index(drop=True)\n",
        "val_data = val_data.dropna(how='all').reset_index(drop=True)\n",
        "\n",
        "# Handle missing values for numerical columns by filling with the median\n",
        "num_cols = ['Age', 'Daily_Usage_Time (minutes)', 'Posts_Per_Day',\n",
        "            'Likes_Received_Per_Day', 'Comments_Received_Per_Day', 'Messages_Sent_Per_Day']\n",
        "train_data.loc[:, num_cols] = train_data[num_cols].fillna(train_data[num_cols].median())\n",
        "test_data.loc[:, num_cols] = test_data[num_cols].fillna(test_data[num_cols].median())\n",
        "val_data.loc[:, num_cols] = val_data[num_cols].fillna(val_data[num_cols].median())\n",
        "\n",
        "# Handle missing values for categorical columns by filling with the mode\n",
        "cat_cols = ['Gender', 'Platform', 'Dominant_Emotion']\n",
        "train_data.loc[:, cat_cols] = train_data[cat_cols].fillna(train_data[cat_cols].mode().iloc[0])\n",
        "test_data.loc[:, cat_cols] = test_data[cat_cols].fillna(test_data[cat_cols].mode().iloc[0])\n",
        "val_data.loc[:, cat_cols] = val_data[cat_cols].fillna(val_data[cat_cols].mode().iloc[0])\n",
        "\n",
        "# Verify that no missing values remain\n",
        "print(\"Final Check for Missing Values in Train Data:\")\n",
        "print(train_data.isnull().sum())\n"
      ],
      "metadata": {
        "colab": {
          "base_uri": "https://localhost:8080/"
        },
        "id": "-VcVgglC4OWU",
        "outputId": "c49a0bcd-aa48-4703-8864-556285fe4ab6"
      },
      "execution_count": 6,
      "outputs": [
        {
          "output_type": "stream",
          "name": "stdout",
          "text": [
            "Final Check for Missing Values in Train Data:\n",
            "User_ID                       0\n",
            "Age                           0\n",
            "Gender                        0\n",
            "Platform                      0\n",
            "Daily_Usage_Time (minutes)    0\n",
            "Posts_Per_Day                 0\n",
            "Likes_Received_Per_Day        0\n",
            "Comments_Received_Per_Day     0\n",
            "Messages_Sent_Per_Day         0\n",
            "Dominant_Emotion              0\n",
            "dtype: int64\n"
          ]
        }
      ]
    },
    {
      "cell_type": "markdown",
      "source": [
        "**3.2 Encoding Categorical Variables**"
      ],
      "metadata": {
        "id": "goDknN304uc7"
      }
    },
    {
      "cell_type": "markdown",
      "source": [
        "Transform categorical variables into a format suitable for machine learning."
      ],
      "metadata": {
        "id": "2Jos0pp9Dna5"
      }
    },
    {
      "cell_type": "code",
      "source": [
        "# One-hot encode the categorical columns\n",
        "train_data_encoded = pd.get_dummies(train_data, columns=['Gender', 'Platform', 'Dominant_Emotion'], drop_first=True)\n",
        "test_data_encoded = pd.get_dummies(test_data, columns=['Gender', 'Platform', 'Dominant_Emotion'], drop_first=True)\n",
        "val_data_encoded = pd.get_dummies(val_data, columns=['Gender', 'Platform', 'Dominant_Emotion'], drop_first=True)\n",
        "\n",
        "# Verify the transformation by displaying the first few rows of the encoded training data\n",
        "print(\"Encoded Training Data:\")\n",
        "display(train_data_encoded.head())\n"
      ],
      "metadata": {
        "colab": {
          "base_uri": "https://localhost:8080/",
          "height": 261
        },
        "id": "nEbMjUxl4u9r",
        "outputId": "31275422-233c-45f2-fb75-c8a6dca7ffac"
      },
      "execution_count": 7,
      "outputs": [
        {
          "output_type": "stream",
          "name": "stdout",
          "text": [
            "Encoded Training Data:\n"
          ]
        },
        {
          "output_type": "display_data",
          "data": {
            "text/plain": [
              "   User_ID   Age  Daily_Usage_Time (minutes)  Posts_Per_Day  \\\n",
              "0      1.0  25.0                       120.0            3.0   \n",
              "1      2.0  30.0                        90.0            5.0   \n",
              "2      3.0  22.0                        60.0            2.0   \n",
              "3      4.0  28.0                       200.0            8.0   \n",
              "4      5.0  33.0                        45.0            1.0   \n",
              "\n",
              "   Likes_Received_Per_Day  Comments_Received_Per_Day  Messages_Sent_Per_Day  \\\n",
              "0                    45.0                       10.0                   12.0   \n",
              "1                    20.0                       25.0                   30.0   \n",
              "2                    15.0                        5.0                   20.0   \n",
              "3                   100.0                       30.0                   50.0   \n",
              "4                     5.0                        2.0                   10.0   \n",
              "\n",
              "   Gender_Male  Gender_Non-binary  Platform_Instagram  Platform_LinkedIn  \\\n",
              "0        False              False                True              False   \n",
              "1         True              False               False              False   \n",
              "2        False               True               False              False   \n",
              "3        False              False                True              False   \n",
              "4         True              False               False               True   \n",
              "\n",
              "   Platform_Snapchat  Platform_Telegram  Platform_Twitter  Platform_Whatsapp  \\\n",
              "0              False              False             False              False   \n",
              "1              False              False              True              False   \n",
              "2              False              False             False              False   \n",
              "3              False              False             False              False   \n",
              "4              False              False             False              False   \n",
              "\n",
              "   Dominant_Emotion_Anxiety  Dominant_Emotion_Boredom  \\\n",
              "0                     False                     False   \n",
              "1                     False                     False   \n",
              "2                     False                     False   \n",
              "3                      True                     False   \n",
              "4                     False                      True   \n",
              "\n",
              "   Dominant_Emotion_Happiness  Dominant_Emotion_Neutral  \\\n",
              "0                        True                     False   \n",
              "1                       False                     False   \n",
              "2                       False                      True   \n",
              "3                       False                     False   \n",
              "4                       False                     False   \n",
              "\n",
              "   Dominant_Emotion_Sadness  \n",
              "0                     False  \n",
              "1                     False  \n",
              "2                     False  \n",
              "3                     False  \n",
              "4                     False  "
            ],
            "text/html": [
              "\n",
              "  <div id=\"df-642b8b23-6106-4808-ac55-645849f727c8\" class=\"colab-df-container\">\n",
              "    <div>\n",
              "<style scoped>\n",
              "    .dataframe tbody tr th:only-of-type {\n",
              "        vertical-align: middle;\n",
              "    }\n",
              "\n",
              "    .dataframe tbody tr th {\n",
              "        vertical-align: top;\n",
              "    }\n",
              "\n",
              "    .dataframe thead th {\n",
              "        text-align: right;\n",
              "    }\n",
              "</style>\n",
              "<table border=\"1\" class=\"dataframe\">\n",
              "  <thead>\n",
              "    <tr style=\"text-align: right;\">\n",
              "      <th></th>\n",
              "      <th>User_ID</th>\n",
              "      <th>Age</th>\n",
              "      <th>Daily_Usage_Time (minutes)</th>\n",
              "      <th>Posts_Per_Day</th>\n",
              "      <th>Likes_Received_Per_Day</th>\n",
              "      <th>Comments_Received_Per_Day</th>\n",
              "      <th>Messages_Sent_Per_Day</th>\n",
              "      <th>Gender_Male</th>\n",
              "      <th>Gender_Non-binary</th>\n",
              "      <th>Platform_Instagram</th>\n",
              "      <th>Platform_LinkedIn</th>\n",
              "      <th>Platform_Snapchat</th>\n",
              "      <th>Platform_Telegram</th>\n",
              "      <th>Platform_Twitter</th>\n",
              "      <th>Platform_Whatsapp</th>\n",
              "      <th>Dominant_Emotion_Anxiety</th>\n",
              "      <th>Dominant_Emotion_Boredom</th>\n",
              "      <th>Dominant_Emotion_Happiness</th>\n",
              "      <th>Dominant_Emotion_Neutral</th>\n",
              "      <th>Dominant_Emotion_Sadness</th>\n",
              "    </tr>\n",
              "  </thead>\n",
              "  <tbody>\n",
              "    <tr>\n",
              "      <th>0</th>\n",
              "      <td>1.0</td>\n",
              "      <td>25.0</td>\n",
              "      <td>120.0</td>\n",
              "      <td>3.0</td>\n",
              "      <td>45.0</td>\n",
              "      <td>10.0</td>\n",
              "      <td>12.0</td>\n",
              "      <td>False</td>\n",
              "      <td>False</td>\n",
              "      <td>True</td>\n",
              "      <td>False</td>\n",
              "      <td>False</td>\n",
              "      <td>False</td>\n",
              "      <td>False</td>\n",
              "      <td>False</td>\n",
              "      <td>False</td>\n",
              "      <td>False</td>\n",
              "      <td>True</td>\n",
              "      <td>False</td>\n",
              "      <td>False</td>\n",
              "    </tr>\n",
              "    <tr>\n",
              "      <th>1</th>\n",
              "      <td>2.0</td>\n",
              "      <td>30.0</td>\n",
              "      <td>90.0</td>\n",
              "      <td>5.0</td>\n",
              "      <td>20.0</td>\n",
              "      <td>25.0</td>\n",
              "      <td>30.0</td>\n",
              "      <td>True</td>\n",
              "      <td>False</td>\n",
              "      <td>False</td>\n",
              "      <td>False</td>\n",
              "      <td>False</td>\n",
              "      <td>False</td>\n",
              "      <td>True</td>\n",
              "      <td>False</td>\n",
              "      <td>False</td>\n",
              "      <td>False</td>\n",
              "      <td>False</td>\n",
              "      <td>False</td>\n",
              "      <td>False</td>\n",
              "    </tr>\n",
              "    <tr>\n",
              "      <th>2</th>\n",
              "      <td>3.0</td>\n",
              "      <td>22.0</td>\n",
              "      <td>60.0</td>\n",
              "      <td>2.0</td>\n",
              "      <td>15.0</td>\n",
              "      <td>5.0</td>\n",
              "      <td>20.0</td>\n",
              "      <td>False</td>\n",
              "      <td>True</td>\n",
              "      <td>False</td>\n",
              "      <td>False</td>\n",
              "      <td>False</td>\n",
              "      <td>False</td>\n",
              "      <td>False</td>\n",
              "      <td>False</td>\n",
              "      <td>False</td>\n",
              "      <td>False</td>\n",
              "      <td>False</td>\n",
              "      <td>True</td>\n",
              "      <td>False</td>\n",
              "    </tr>\n",
              "    <tr>\n",
              "      <th>3</th>\n",
              "      <td>4.0</td>\n",
              "      <td>28.0</td>\n",
              "      <td>200.0</td>\n",
              "      <td>8.0</td>\n",
              "      <td>100.0</td>\n",
              "      <td>30.0</td>\n",
              "      <td>50.0</td>\n",
              "      <td>False</td>\n",
              "      <td>False</td>\n",
              "      <td>True</td>\n",
              "      <td>False</td>\n",
              "      <td>False</td>\n",
              "      <td>False</td>\n",
              "      <td>False</td>\n",
              "      <td>False</td>\n",
              "      <td>True</td>\n",
              "      <td>False</td>\n",
              "      <td>False</td>\n",
              "      <td>False</td>\n",
              "      <td>False</td>\n",
              "    </tr>\n",
              "    <tr>\n",
              "      <th>4</th>\n",
              "      <td>5.0</td>\n",
              "      <td>33.0</td>\n",
              "      <td>45.0</td>\n",
              "      <td>1.0</td>\n",
              "      <td>5.0</td>\n",
              "      <td>2.0</td>\n",
              "      <td>10.0</td>\n",
              "      <td>True</td>\n",
              "      <td>False</td>\n",
              "      <td>False</td>\n",
              "      <td>True</td>\n",
              "      <td>False</td>\n",
              "      <td>False</td>\n",
              "      <td>False</td>\n",
              "      <td>False</td>\n",
              "      <td>False</td>\n",
              "      <td>True</td>\n",
              "      <td>False</td>\n",
              "      <td>False</td>\n",
              "      <td>False</td>\n",
              "    </tr>\n",
              "  </tbody>\n",
              "</table>\n",
              "</div>\n",
              "    <div class=\"colab-df-buttons\">\n",
              "\n",
              "  <div class=\"colab-df-container\">\n",
              "    <button class=\"colab-df-convert\" onclick=\"convertToInteractive('df-642b8b23-6106-4808-ac55-645849f727c8')\"\n",
              "            title=\"Convert this dataframe to an interactive table.\"\n",
              "            style=\"display:none;\">\n",
              "\n",
              "  <svg xmlns=\"http://www.w3.org/2000/svg\" height=\"24px\" viewBox=\"0 -960 960 960\">\n",
              "    <path d=\"M120-120v-720h720v720H120Zm60-500h600v-160H180v160Zm220 220h160v-160H400v160Zm0 220h160v-160H400v160ZM180-400h160v-160H180v160Zm440 0h160v-160H620v160ZM180-180h160v-160H180v160Zm440 0h160v-160H620v160Z\"/>\n",
              "  </svg>\n",
              "    </button>\n",
              "\n",
              "  <style>\n",
              "    .colab-df-container {\n",
              "      display:flex;\n",
              "      gap: 12px;\n",
              "    }\n",
              "\n",
              "    .colab-df-convert {\n",
              "      background-color: #E8F0FE;\n",
              "      border: none;\n",
              "      border-radius: 50%;\n",
              "      cursor: pointer;\n",
              "      display: none;\n",
              "      fill: #1967D2;\n",
              "      height: 32px;\n",
              "      padding: 0 0 0 0;\n",
              "      width: 32px;\n",
              "    }\n",
              "\n",
              "    .colab-df-convert:hover {\n",
              "      background-color: #E2EBFA;\n",
              "      box-shadow: 0px 1px 2px rgba(60, 64, 67, 0.3), 0px 1px 3px 1px rgba(60, 64, 67, 0.15);\n",
              "      fill: #174EA6;\n",
              "    }\n",
              "\n",
              "    .colab-df-buttons div {\n",
              "      margin-bottom: 4px;\n",
              "    }\n",
              "\n",
              "    [theme=dark] .colab-df-convert {\n",
              "      background-color: #3B4455;\n",
              "      fill: #D2E3FC;\n",
              "    }\n",
              "\n",
              "    [theme=dark] .colab-df-convert:hover {\n",
              "      background-color: #434B5C;\n",
              "      box-shadow: 0px 1px 3px 1px rgba(0, 0, 0, 0.15);\n",
              "      filter: drop-shadow(0px 1px 2px rgba(0, 0, 0, 0.3));\n",
              "      fill: #FFFFFF;\n",
              "    }\n",
              "  </style>\n",
              "\n",
              "    <script>\n",
              "      const buttonEl =\n",
              "        document.querySelector('#df-642b8b23-6106-4808-ac55-645849f727c8 button.colab-df-convert');\n",
              "      buttonEl.style.display =\n",
              "        google.colab.kernel.accessAllowed ? 'block' : 'none';\n",
              "\n",
              "      async function convertToInteractive(key) {\n",
              "        const element = document.querySelector('#df-642b8b23-6106-4808-ac55-645849f727c8');\n",
              "        const dataTable =\n",
              "          await google.colab.kernel.invokeFunction('convertToInteractive',\n",
              "                                                    [key], {});\n",
              "        if (!dataTable) return;\n",
              "\n",
              "        const docLinkHtml = 'Like what you see? Visit the ' +\n",
              "          '<a target=\"_blank\" href=https://colab.research.google.com/notebooks/data_table.ipynb>data table notebook</a>'\n",
              "          + ' to learn more about interactive tables.';\n",
              "        element.innerHTML = '';\n",
              "        dataTable['output_type'] = 'display_data';\n",
              "        await google.colab.output.renderOutput(dataTable, element);\n",
              "        const docLink = document.createElement('div');\n",
              "        docLink.innerHTML = docLinkHtml;\n",
              "        element.appendChild(docLink);\n",
              "      }\n",
              "    </script>\n",
              "  </div>\n",
              "\n",
              "\n",
              "<div id=\"df-00029e0c-89a1-4652-96cf-30bc767c5fa6\">\n",
              "  <button class=\"colab-df-quickchart\" onclick=\"quickchart('df-00029e0c-89a1-4652-96cf-30bc767c5fa6')\"\n",
              "            title=\"Suggest charts\"\n",
              "            style=\"display:none;\">\n",
              "\n",
              "<svg xmlns=\"http://www.w3.org/2000/svg\" height=\"24px\"viewBox=\"0 0 24 24\"\n",
              "     width=\"24px\">\n",
              "    <g>\n",
              "        <path d=\"M19 3H5c-1.1 0-2 .9-2 2v14c0 1.1.9 2 2 2h14c1.1 0 2-.9 2-2V5c0-1.1-.9-2-2-2zM9 17H7v-7h2v7zm4 0h-2V7h2v10zm4 0h-2v-4h2v4z\"/>\n",
              "    </g>\n",
              "</svg>\n",
              "  </button>\n",
              "\n",
              "<style>\n",
              "  .colab-df-quickchart {\n",
              "      --bg-color: #E8F0FE;\n",
              "      --fill-color: #1967D2;\n",
              "      --hover-bg-color: #E2EBFA;\n",
              "      --hover-fill-color: #174EA6;\n",
              "      --disabled-fill-color: #AAA;\n",
              "      --disabled-bg-color: #DDD;\n",
              "  }\n",
              "\n",
              "  [theme=dark] .colab-df-quickchart {\n",
              "      --bg-color: #3B4455;\n",
              "      --fill-color: #D2E3FC;\n",
              "      --hover-bg-color: #434B5C;\n",
              "      --hover-fill-color: #FFFFFF;\n",
              "      --disabled-bg-color: #3B4455;\n",
              "      --disabled-fill-color: #666;\n",
              "  }\n",
              "\n",
              "  .colab-df-quickchart {\n",
              "    background-color: var(--bg-color);\n",
              "    border: none;\n",
              "    border-radius: 50%;\n",
              "    cursor: pointer;\n",
              "    display: none;\n",
              "    fill: var(--fill-color);\n",
              "    height: 32px;\n",
              "    padding: 0;\n",
              "    width: 32px;\n",
              "  }\n",
              "\n",
              "  .colab-df-quickchart:hover {\n",
              "    background-color: var(--hover-bg-color);\n",
              "    box-shadow: 0 1px 2px rgba(60, 64, 67, 0.3), 0 1px 3px 1px rgba(60, 64, 67, 0.15);\n",
              "    fill: var(--button-hover-fill-color);\n",
              "  }\n",
              "\n",
              "  .colab-df-quickchart-complete:disabled,\n",
              "  .colab-df-quickchart-complete:disabled:hover {\n",
              "    background-color: var(--disabled-bg-color);\n",
              "    fill: var(--disabled-fill-color);\n",
              "    box-shadow: none;\n",
              "  }\n",
              "\n",
              "  .colab-df-spinner {\n",
              "    border: 2px solid var(--fill-color);\n",
              "    border-color: transparent;\n",
              "    border-bottom-color: var(--fill-color);\n",
              "    animation:\n",
              "      spin 1s steps(1) infinite;\n",
              "  }\n",
              "\n",
              "  @keyframes spin {\n",
              "    0% {\n",
              "      border-color: transparent;\n",
              "      border-bottom-color: var(--fill-color);\n",
              "      border-left-color: var(--fill-color);\n",
              "    }\n",
              "    20% {\n",
              "      border-color: transparent;\n",
              "      border-left-color: var(--fill-color);\n",
              "      border-top-color: var(--fill-color);\n",
              "    }\n",
              "    30% {\n",
              "      border-color: transparent;\n",
              "      border-left-color: var(--fill-color);\n",
              "      border-top-color: var(--fill-color);\n",
              "      border-right-color: var(--fill-color);\n",
              "    }\n",
              "    40% {\n",
              "      border-color: transparent;\n",
              "      border-right-color: var(--fill-color);\n",
              "      border-top-color: var(--fill-color);\n",
              "    }\n",
              "    60% {\n",
              "      border-color: transparent;\n",
              "      border-right-color: var(--fill-color);\n",
              "    }\n",
              "    80% {\n",
              "      border-color: transparent;\n",
              "      border-right-color: var(--fill-color);\n",
              "      border-bottom-color: var(--fill-color);\n",
              "    }\n",
              "    90% {\n",
              "      border-color: transparent;\n",
              "      border-bottom-color: var(--fill-color);\n",
              "    }\n",
              "  }\n",
              "</style>\n",
              "\n",
              "  <script>\n",
              "    async function quickchart(key) {\n",
              "      const quickchartButtonEl =\n",
              "        document.querySelector('#' + key + ' button');\n",
              "      quickchartButtonEl.disabled = true;  // To prevent multiple clicks.\n",
              "      quickchartButtonEl.classList.add('colab-df-spinner');\n",
              "      try {\n",
              "        const charts = await google.colab.kernel.invokeFunction(\n",
              "            'suggestCharts', [key], {});\n",
              "      } catch (error) {\n",
              "        console.error('Error during call to suggestCharts:', error);\n",
              "      }\n",
              "      quickchartButtonEl.classList.remove('colab-df-spinner');\n",
              "      quickchartButtonEl.classList.add('colab-df-quickchart-complete');\n",
              "    }\n",
              "    (() => {\n",
              "      let quickchartButtonEl =\n",
              "        document.querySelector('#df-00029e0c-89a1-4652-96cf-30bc767c5fa6 button');\n",
              "      quickchartButtonEl.style.display =\n",
              "        google.colab.kernel.accessAllowed ? 'block' : 'none';\n",
              "    })();\n",
              "  </script>\n",
              "</div>\n",
              "\n",
              "    </div>\n",
              "  </div>\n"
            ],
            "application/vnd.google.colaboratory.intrinsic+json": {
              "type": "dataframe",
              "summary": "{\n  \"name\": \"display(train_data_encoded\",\n  \"rows\": 5,\n  \"fields\": [\n    {\n      \"column\": \"User_ID\",\n      \"properties\": {\n        \"dtype\": \"number\",\n        \"std\": 1.5811388300841898,\n        \"min\": 1.0,\n        \"max\": 5.0,\n        \"num_unique_values\": 5,\n        \"samples\": [\n          2.0,\n          5.0,\n          3.0\n        ],\n        \"semantic_type\": \"\",\n        \"description\": \"\"\n      }\n    },\n    {\n      \"column\": \"Age\",\n      \"properties\": {\n        \"dtype\": \"number\",\n        \"std\": 4.277849927241488,\n        \"min\": 22.0,\n        \"max\": 33.0,\n        \"num_unique_values\": 5,\n        \"samples\": [\n          30.0,\n          33.0,\n          22.0\n        ],\n        \"semantic_type\": \"\",\n        \"description\": \"\"\n      }\n    },\n    {\n      \"column\": \"Daily_Usage_Time (minutes)\",\n      \"properties\": {\n        \"dtype\": \"number\",\n        \"std\": 61.40032573203501,\n        \"min\": 45.0,\n        \"max\": 200.0,\n        \"num_unique_values\": 5,\n        \"samples\": [\n          90.0,\n          45.0,\n          60.0\n        ],\n        \"semantic_type\": \"\",\n        \"description\": \"\"\n      }\n    },\n    {\n      \"column\": \"Posts_Per_Day\",\n      \"properties\": {\n        \"dtype\": \"number\",\n        \"std\": 2.7748873851023217,\n        \"min\": 1.0,\n        \"max\": 8.0,\n        \"num_unique_values\": 5,\n        \"samples\": [\n          5.0,\n          1.0,\n          2.0\n        ],\n        \"semantic_type\": \"\",\n        \"description\": \"\"\n      }\n    },\n    {\n      \"column\": \"Likes_Received_Per_Day\",\n      \"properties\": {\n        \"dtype\": \"number\",\n        \"std\": 38.17721833764215,\n        \"min\": 5.0,\n        \"max\": 100.0,\n        \"num_unique_values\": 5,\n        \"samples\": [\n          20.0,\n          5.0,\n          15.0\n        ],\n        \"semantic_type\": \"\",\n        \"description\": \"\"\n      }\n    },\n    {\n      \"column\": \"Comments_Received_Per_Day\",\n      \"properties\": {\n        \"dtype\": \"number\",\n        \"std\": 12.421755109484328,\n        \"min\": 2.0,\n        \"max\": 30.0,\n        \"num_unique_values\": 5,\n        \"samples\": [\n          25.0,\n          2.0,\n          5.0\n        ],\n        \"semantic_type\": \"\",\n        \"description\": \"\"\n      }\n    },\n    {\n      \"column\": \"Messages_Sent_Per_Day\",\n      \"properties\": {\n        \"dtype\": \"number\",\n        \"std\": 16.334013591276335,\n        \"min\": 10.0,\n        \"max\": 50.0,\n        \"num_unique_values\": 5,\n        \"samples\": [\n          30.0,\n          10.0,\n          20.0\n        ],\n        \"semantic_type\": \"\",\n        \"description\": \"\"\n      }\n    },\n    {\n      \"column\": \"Gender_Male\",\n      \"properties\": {\n        \"dtype\": \"boolean\",\n        \"num_unique_values\": 2,\n        \"samples\": [\n          true,\n          false\n        ],\n        \"semantic_type\": \"\",\n        \"description\": \"\"\n      }\n    },\n    {\n      \"column\": \"Gender_Non-binary\",\n      \"properties\": {\n        \"dtype\": \"boolean\",\n        \"num_unique_values\": 2,\n        \"samples\": [\n          true,\n          false\n        ],\n        \"semantic_type\": \"\",\n        \"description\": \"\"\n      }\n    },\n    {\n      \"column\": \"Platform_Instagram\",\n      \"properties\": {\n        \"dtype\": \"boolean\",\n        \"num_unique_values\": 2,\n        \"samples\": [\n          false,\n          true\n        ],\n        \"semantic_type\": \"\",\n        \"description\": \"\"\n      }\n    },\n    {\n      \"column\": \"Platform_LinkedIn\",\n      \"properties\": {\n        \"dtype\": \"boolean\",\n        \"num_unique_values\": 2,\n        \"samples\": [\n          true,\n          false\n        ],\n        \"semantic_type\": \"\",\n        \"description\": \"\"\n      }\n    },\n    {\n      \"column\": \"Platform_Snapchat\",\n      \"properties\": {\n        \"dtype\": \"boolean\",\n        \"num_unique_values\": 1,\n        \"samples\": [\n          false\n        ],\n        \"semantic_type\": \"\",\n        \"description\": \"\"\n      }\n    },\n    {\n      \"column\": \"Platform_Telegram\",\n      \"properties\": {\n        \"dtype\": \"boolean\",\n        \"num_unique_values\": 1,\n        \"samples\": [\n          false\n        ],\n        \"semantic_type\": \"\",\n        \"description\": \"\"\n      }\n    },\n    {\n      \"column\": \"Platform_Twitter\",\n      \"properties\": {\n        \"dtype\": \"boolean\",\n        \"num_unique_values\": 2,\n        \"samples\": [\n          true\n        ],\n        \"semantic_type\": \"\",\n        \"description\": \"\"\n      }\n    },\n    {\n      \"column\": \"Platform_Whatsapp\",\n      \"properties\": {\n        \"dtype\": \"boolean\",\n        \"num_unique_values\": 1,\n        \"samples\": [\n          false\n        ],\n        \"semantic_type\": \"\",\n        \"description\": \"\"\n      }\n    },\n    {\n      \"column\": \"Dominant_Emotion_Anxiety\",\n      \"properties\": {\n        \"dtype\": \"boolean\",\n        \"num_unique_values\": 2,\n        \"samples\": [\n          true\n        ],\n        \"semantic_type\": \"\",\n        \"description\": \"\"\n      }\n    },\n    {\n      \"column\": \"Dominant_Emotion_Boredom\",\n      \"properties\": {\n        \"dtype\": \"boolean\",\n        \"num_unique_values\": 2,\n        \"samples\": [\n          true\n        ],\n        \"semantic_type\": \"\",\n        \"description\": \"\"\n      }\n    },\n    {\n      \"column\": \"Dominant_Emotion_Happiness\",\n      \"properties\": {\n        \"dtype\": \"boolean\",\n        \"num_unique_values\": 2,\n        \"samples\": [\n          false\n        ],\n        \"semantic_type\": \"\",\n        \"description\": \"\"\n      }\n    },\n    {\n      \"column\": \"Dominant_Emotion_Neutral\",\n      \"properties\": {\n        \"dtype\": \"boolean\",\n        \"num_unique_values\": 2,\n        \"samples\": [\n          true\n        ],\n        \"semantic_type\": \"\",\n        \"description\": \"\"\n      }\n    },\n    {\n      \"column\": \"Dominant_Emotion_Sadness\",\n      \"properties\": {\n        \"dtype\": \"boolean\",\n        \"num_unique_values\": 1,\n        \"samples\": [\n          false\n        ],\n        \"semantic_type\": \"\",\n        \"description\": \"\"\n      }\n    }\n  ]\n}"
            }
          },
          "metadata": {}
        }
      ]
    },
    {
      "cell_type": "markdown",
      "source": [
        "**3.3 Splitting Data for Training and Evaluation**"
      ],
      "metadata": {
        "id": "Se-vIu8V49yU"
      }
    },
    {
      "cell_type": "markdown",
      "source": [
        "**Data Splitting**"
      ],
      "metadata": {
        "id": "uvQ5TNqSDyGZ"
      }
    },
    {
      "cell_type": "markdown",
      "source": [
        "Define the feature columns and target variable, then split the data for training and testing."
      ],
      "metadata": {
        "id": "dNUZ_6UAD0JY"
      }
    },
    {
      "cell_type": "code",
      "source": [
        "# Define the feature columns (excluding User_ID and target)\n",
        "feature_columns = train_data_encoded.columns.drop(['User_ID', 'Dominant_Emotion_Happiness'])  # replace 'Dominant_Emotion_Happiness' with your target\n",
        "\n",
        "# Define the target column\n",
        "target_column = 'Dominant_Emotion_Happiness'  # adjust this to your target if different\n",
        "\n",
        "# Separate features and target for training data\n",
        "X_train = train_data_encoded[feature_columns]\n",
        "y_train = train_data_encoded[target_column]\n",
        "\n",
        "# Similarly, prepare test and validation sets\n",
        "X_test = test_data_encoded[feature_columns]\n",
        "y_test = test_data_encoded[target_column]\n",
        "\n",
        "X_val = val_data_encoded[feature_columns]\n",
        "y_val = val_data_encoded[target_column]\n"
      ],
      "metadata": {
        "id": "es_5nvw14-S1"
      },
      "execution_count": 8,
      "outputs": []
    },
    {
      "cell_type": "markdown",
      "source": [
        "### **4. Data Mining**"
      ],
      "metadata": {
        "id": "3FpTi-HNFAt5"
      }
    },
    {
      "cell_type": "markdown",
      "source": [
        "**Model Selection and Training**"
      ],
      "metadata": {
        "id": "zQ8lv7Vd5DS9"
      }
    },
    {
      "cell_type": "markdown",
      "source": [
        "Apply data mining methods and test various models. Logistic Regression was chosen due to interpretability, but comparisons with other models are included."
      ],
      "metadata": {
        "id": "8qH1zm1PFE6J"
      }
    },
    {
      "cell_type": "code",
      "source": [
        "from sklearn.linear_model import LogisticRegression\n",
        "from sklearn.metrics import accuracy_score, classification_report, confusion_matrix\n",
        "\n",
        "# Initialize and train the logistic regression model\n",
        "model = LogisticRegression(max_iter=1000)\n",
        "model.fit(X_train, y_train)\n",
        "\n",
        "# Make predictions on the test set\n",
        "y_pred = model.predict(X_test)\n",
        "\n",
        "# Evaluate the model\n",
        "accuracy = accuracy_score(y_test, y_pred)\n",
        "print(\"Model Accuracy:\", accuracy)\n",
        "print(\"\\nClassification Report:\\n\", classification_report(y_test, y_pred))\n",
        "print(\"\\nConfusion Matrix:\\n\", confusion_matrix(y_test, y_pred))\n"
      ],
      "metadata": {
        "colab": {
          "base_uri": "https://localhost:8080/"
        },
        "id": "GEtEkAnW5DD0",
        "outputId": "4f9c9d49-86bc-4e55-84c1-74bf9a6f7324"
      },
      "execution_count": 9,
      "outputs": [
        {
          "output_type": "stream",
          "name": "stdout",
          "text": [
            "Model Accuracy: 0.9805825242718447\n",
            "\n",
            "Classification Report:\n",
            "               precision    recall  f1-score   support\n",
            "\n",
            "       False       0.99      0.99      0.99        89\n",
            "        True       0.93      0.93      0.93        14\n",
            "\n",
            "    accuracy                           0.98       103\n",
            "   macro avg       0.96      0.96      0.96       103\n",
            "weighted avg       0.98      0.98      0.98       103\n",
            "\n",
            "\n",
            "Confusion Matrix:\n",
            " [[88  1]\n",
            " [ 1 13]]\n"
          ]
        }
      ]
    },
    {
      "cell_type": "markdown",
      "source": [
        "**Alternative Models**"
      ],
      "metadata": {
        "id": "6vybFm9lGN8B"
      }
    },
    {
      "cell_type": "code",
      "source": [
        "from sklearn.ensemble import RandomForestClassifier, GradientBoostingClassifier\n",
        "from sklearn.svm import SVC\n",
        "from sklearn.metrics import accuracy_score, classification_report, confusion_matrix\n",
        "from sklearn.model_selection import GridSearchCV\n",
        "\n",
        "# Define a function to evaluate a model and print its performance\n",
        "def evaluate_model(model, X_train, y_train, X_test, y_test, model_name):\n",
        "    # Fit the model\n",
        "    model.fit(X_train, y_train)\n",
        "\n",
        "    # Predict on test set\n",
        "    y_pred = model.predict(X_test)\n",
        "\n",
        "    # Calculate performance metrics\n",
        "    accuracy = accuracy_score(y_test, y_pred)\n",
        "    report = classification_report(y_test, y_pred)\n",
        "    conf_matrix = confusion_matrix(y_test, y_pred)\n",
        "\n",
        "    # Print results\n",
        "    print(f\"\\nModel: {model_name}\")\n",
        "    print(f\"Accuracy: {accuracy}\")\n",
        "    print(\"Classification Report:\\n\", report)\n",
        "    print(\"Confusion Matrix:\\n\", conf_matrix)\n",
        "\n",
        "# Logistic Regression (existing model)\n",
        "from sklearn.linear_model import LogisticRegression\n",
        "logistic_model = LogisticRegression(max_iter=1000)\n",
        "evaluate_model(logistic_model, X_train, y_train, X_test, y_test, \"Logistic Regression\")\n",
        "\n",
        "# Random Forest\n",
        "rf_model = RandomForestClassifier(random_state=42)\n",
        "evaluate_model(rf_model, X_train, y_train, X_test, y_test, \"Random Forest\")\n",
        "\n",
        "# Gradient Boosting\n",
        "gb_model = GradientBoostingClassifier(random_state=42)\n",
        "evaluate_model(gb_model, X_train, y_train, X_test, y_test, \"Gradient Boosting\")\n",
        "\n",
        "# Support Vector Machine\n",
        "svm_model = SVC(kernel='linear', probability=True, random_state=42)\n",
        "evaluate_model(svm_model, X_train, y_train, X_test, y_test, \"Support Vector Machine (SVM)\")\n"
      ],
      "metadata": {
        "colab": {
          "base_uri": "https://localhost:8080/"
        },
        "id": "i7Yy2rIRWZcn",
        "outputId": "927d0c7a-a706-4b2f-a2ed-64ccd777f197"
      },
      "execution_count": 12,
      "outputs": [
        {
          "output_type": "stream",
          "name": "stdout",
          "text": [
            "\n",
            "Model: Logistic Regression\n",
            "Accuracy: 0.9805825242718447\n",
            "Classification Report:\n",
            "               precision    recall  f1-score   support\n",
            "\n",
            "       False       0.99      0.99      0.99        89\n",
            "        True       0.93      0.93      0.93        14\n",
            "\n",
            "    accuracy                           0.98       103\n",
            "   macro avg       0.96      0.96      0.96       103\n",
            "weighted avg       0.98      0.98      0.98       103\n",
            "\n",
            "Confusion Matrix:\n",
            " [[88  1]\n",
            " [ 1 13]]\n",
            "\n",
            "Model: Random Forest\n",
            "Accuracy: 1.0\n",
            "Classification Report:\n",
            "               precision    recall  f1-score   support\n",
            "\n",
            "       False       1.00      1.00      1.00        89\n",
            "        True       1.00      1.00      1.00        14\n",
            "\n",
            "    accuracy                           1.00       103\n",
            "   macro avg       1.00      1.00      1.00       103\n",
            "weighted avg       1.00      1.00      1.00       103\n",
            "\n",
            "Confusion Matrix:\n",
            " [[89  0]\n",
            " [ 0 14]]\n",
            "\n",
            "Model: Gradient Boosting\n",
            "Accuracy: 1.0\n",
            "Classification Report:\n",
            "               precision    recall  f1-score   support\n",
            "\n",
            "       False       1.00      1.00      1.00        89\n",
            "        True       1.00      1.00      1.00        14\n",
            "\n",
            "    accuracy                           1.00       103\n",
            "   macro avg       1.00      1.00      1.00       103\n",
            "weighted avg       1.00      1.00      1.00       103\n",
            "\n",
            "Confusion Matrix:\n",
            " [[89  0]\n",
            " [ 0 14]]\n",
            "\n",
            "Model: Support Vector Machine (SVM)\n",
            "Accuracy: 0.9805825242718447\n",
            "Classification Report:\n",
            "               precision    recall  f1-score   support\n",
            "\n",
            "       False       0.99      0.99      0.99        89\n",
            "        True       0.93      0.93      0.93        14\n",
            "\n",
            "    accuracy                           0.98       103\n",
            "   macro avg       0.96      0.96      0.96       103\n",
            "weighted avg       0.98      0.98      0.98       103\n",
            "\n",
            "Confusion Matrix:\n",
            " [[88  1]\n",
            " [ 1 13]]\n"
          ]
        }
      ]
    },
    {
      "cell_type": "markdown",
      "source": [
        "### **5. Evaluation and Interpretation**"
      ],
      "metadata": {
        "id": "0AcZnxqZGaKx"
      }
    },
    {
      "cell_type": "markdown",
      "source": [
        "**Model Evaluation and Interpretation**"
      ],
      "metadata": {
        "id": "j0QVoDZ7GcK5"
      }
    },
    {
      "cell_type": "markdown",
      "source": [
        "Present model performance metrics, confusion matrices, ROC curves, and feature importance for selected models."
      ],
      "metadata": {
        "id": "s_MZXdSaGfhg"
      }
    },
    {
      "cell_type": "markdown",
      "source": [
        "**Confusion Matrix**"
      ],
      "metadata": {
        "id": "F_pEY6HSGqzp"
      }
    },
    {
      "cell_type": "code",
      "source": [
        "# Confusion matrix visualization\n",
        "import seaborn as sns\n",
        "from sklearn.metrics import confusion_matrix\n",
        "\n",
        "# Generate confusion matrix\n",
        "conf_matrix = confusion_matrix(y_test, y_pred)\n",
        "\n",
        "# Plot confusion matrix heatmap\n",
        "plt.figure(figsize=(6, 5))\n",
        "sns.heatmap(conf_matrix, annot=True, fmt=\"d\", cmap=\"Blues\",\n",
        "            xticklabels=[\"Not at Risk\", \"At Risk\"], yticklabels=[\"Not at Risk\", \"At Risk\"])\n",
        "plt.title(\"Confusion Matrix\")\n",
        "plt.xlabel(\"Predicted\")\n",
        "plt.ylabel(\"Actual\")\n",
        "plt.show()\n"
      ],
      "metadata": {
        "colab": {
          "base_uri": "https://localhost:8080/",
          "height": 487
        },
        "id": "ZE40I6claIUl",
        "outputId": "bc491bd8-ed14-45e4-b1d4-18ae6008a9f1"
      },
      "execution_count": 19,
      "outputs": [
        {
          "output_type": "display_data",
          "data": {
            "text/plain": [
              "<Figure size 600x500 with 2 Axes>"
            ],
            "image/png": "[encoded data removed]"
          },
          "metadata": {}
        }
      ]
    },
    {
      "cell_type": "markdown",
      "source": [
        "**ROC Curve**"
      ],
      "metadata": {
        "id": "Qi8rccYPGsyi"
      }
    },
    {
      "cell_type": "code",
      "source": [
        "from sklearn.metrics import roc_curve, auc\n",
        "\n",
        "# Get probability scores for the positive class\n",
        "y_prob = model.predict_proba(X_test)[:, 1]\n",
        "\n",
        "# Calculate the ROC curve\n",
        "fpr, tpr, thresholds = roc_curve(y_test, y_prob)\n",
        "roc_auc = auc(fpr, tpr)\n",
        "\n",
        "# Plot ROC curve\n",
        "plt.figure(figsize=(8, 6))\n",
        "plt.plot(fpr, tpr, color='darkorange', lw=2, label=f'ROC Curve (area = {roc_auc:.2f})')\n",
        "plt.plot([0, 1], [0, 1], color='navy', lw=2, linestyle='--')\n",
        "plt.xlim([0.0, 1.0])\n",
        "plt.ylim([0.0, 1.05])\n",
        "plt.xlabel(\"False Positive Rate\")\n",
        "plt.ylabel(\"True Positive Rate\")\n",
        "plt.title(\"Receiver Operating Characteristic (ROC) Curve\")\n",
        "plt.legend(loc=\"lower right\")\n",
        "plt.show()\n"
      ],
      "metadata": {
        "colab": {
          "base_uri": "https://localhost:8080/",
          "height": 564
        },
        "id": "5HZkvsvEaRvO",
        "outputId": "69b99b4e-c34a-42b2-f951-220143b391b2"
      },
      "execution_count": 20,
      "outputs": [
        {
          "output_type": "display_data",
          "data": {
            "text/plain": [
              "<Figure size 800x600 with 1 Axes>"
            ],
            "image/png": "[encoded data removed]"
          },
          "metadata": {}
        }
      ]
    },
    {
      "cell_type": "markdown",
      "source": [
        "**Feature Importance**"
      ],
      "metadata": {
        "id": "_Rmg7duRG-i5"
      }
    },
    {
      "cell_type": "code",
      "source": [
        "# Display feature importance for logistic regression\n",
        "importance = final_model.coef_[0]\n",
        "feature_importance = pd.DataFrame({'Feature': X_train.columns, 'Importance': importance})\n",
        "feature_importance = feature_importance.sort_values(by='Importance', ascending=False)\n",
        "print(feature_importance)\n"
      ],
      "metadata": {
        "colab": {
          "base_uri": "https://localhost:8080/"
        },
        "id": "ruqksqTP7HZz",
        "outputId": "aaa36a9d-f035-47af-86d7-37ad0cb4052e"
      },
      "execution_count": 14,
      "outputs": [
        {
          "output_type": "stream",
          "name": "stdout",
          "text": [
            "                       Feature  Importance\n",
            "10           Platform_Snapchat    6.102669\n",
            "7            Gender_Non-binary    3.662013\n",
            "8           Platform_Instagram    2.200071\n",
            "5        Messages_Sent_Per_Day    0.900891\n",
            "12            Platform_Twitter    0.888064\n",
            "6                  Gender_Male    0.404739\n",
            "3       Likes_Received_Per_Day    0.310036\n",
            "1   Daily_Usage_Time (minutes)    0.144428\n",
            "4    Comments_Received_Per_Day    0.063141\n",
            "0                          Age   -0.708424\n",
            "9            Platform_LinkedIn   -1.196481\n",
            "13           Platform_Whatsapp   -2.133466\n",
            "11           Platform_Telegram   -2.928017\n",
            "15    Dominant_Emotion_Boredom   -4.207601\n",
            "2                Posts_Per_Day   -6.293494\n",
            "17    Dominant_Emotion_Sadness  -23.251803\n",
            "16    Dominant_Emotion_Neutral  -26.311516\n",
            "14    Dominant_Emotion_Anxiety  -33.158235\n"
          ]
        }
      ]
    },
    {
      "cell_type": "code",
      "source": [
        "# Feature importance visualization for logistic regression\n",
        "import pandas as pd\n",
        "\n",
        "# Create a dataframe for feature importance\n",
        "feature_importance = pd.DataFrame({\n",
        "    'Feature': X_train.columns,\n",
        "    'Importance': final_model.coef_[0]\n",
        "})\n",
        "\n",
        "# Sort features by importance\n",
        "feature_importance = feature_importance.sort_values(by=\"Importance\", ascending=False)\n",
        "\n",
        "# Plot feature importance\n",
        "plt.figure(figsize=(10, 6))\n",
        "sns.barplot(x=\"Importance\", y=\"Feature\", data=feature_importance, palette=\"viridis\")\n",
        "plt.title(\"Feature Importance for Logistic Regression\")\n",
        "plt.show()\n"
      ],
      "metadata": {
        "colab": {
          "base_uri": "https://localhost:8080/",
          "height": 502
        },
        "id": "oghaS5anaXb-",
        "outputId": "6f02cc49-d4b9-4253-84e6-b1d3f5e887d3"
      },
      "execution_count": 21,
      "outputs": [
        {
          "output_type": "stream",
          "name": "stderr",
          "text": [
            "<ipython-input-21-4b6e1fc37be9>:15: FutureWarning: \n",
            "\n",
            "Passing `palette` without assigning `hue` is deprecated and will be removed in v0.14.0. Assign the `y` variable to `hue` and set `legend=False` for the same effect.\n",
            "\n",
            "  sns.barplot(x=\"Importance\", y=\"Feature\", data=feature_importance, palette=\"viridis\")\n"
          ]
        },
        {
          "output_type": "display_data",
          "data": {
            "text/plain": [
              "<Figure size 1000x600 with 1 Axes>"
            ],
            "image/png": "[encoded data removed]"
          },
          "metadata": {}
        }
      ]
    },
    {
      "cell_type": "markdown",
      "source": [
        "**Cross-Validation**"
      ],
      "metadata": {
        "id": "TU-XeGzw5lyk"
      }
    },
    {
      "cell_type": "code",
      "source": [
        "from sklearn.model_selection import cross_val_score\n",
        "\n",
        "# Perform 5-fold cross-validation\n",
        "cv_scores = cross_val_score(model, X_train, y_train, cv=5, scoring='accuracy')\n",
        "\n",
        "print(\"Cross-Validation Scores:\", cv_scores)\n",
        "print(\"Average Cross-Validation Score:\", cv_scores.mean())\n"
      ],
      "metadata": {
        "colab": {
          "base_uri": "https://localhost:8080/"
        },
        "id": "E0XWelXR5izc",
        "outputId": "97e1a1fb-caaf-4ce0-a8b4-9494125f0c32"
      },
      "execution_count": 10,
      "outputs": [
        {
          "output_type": "stream",
          "name": "stdout",
          "text": [
            "Cross-Validation Scores: [0.965 0.97  0.97  0.97  0.97 ]\n",
            "Average Cross-Validation Score: 0.969\n"
          ]
        }
      ]
    },
    {
      "cell_type": "code",
      "source": [
        "from sklearn.model_selection import cross_val_score\n",
        "\n",
        "# Function to perform cross-validation on each model\n",
        "def cross_validate_model(model, X, y, model_name):\n",
        "    scores = cross_val_score(model, X, y, cv=5, scoring='accuracy')\n",
        "    print(f\"\\nCross-Validation Scores for {model_name}: {scores}\")\n",
        "    print(f\"Average Cross-Validation Score for {model_name}: {scores.mean()}\")\n",
        "\n",
        "# Perform cross-validation on each model\n",
        "cross_validate_model(logistic_model, X_train, y_train, \"Logistic Regression\")\n",
        "cross_validate_model(rf_model, X_train, y_train, \"Random Forest\")\n",
        "cross_validate_model(gb_model, X_train, y_train, \"Gradient Boosting\")\n",
        "cross_validate_model(svm_model, X_train, y_train, \"SVM\")\n"
      ],
      "metadata": {
        "colab": {
          "base_uri": "https://localhost:8080/"
        },
        "id": "e2A5n2PoXrPF",
        "outputId": "fa722c85-703f-466e-909a-2ed8fea05d1c"
      },
      "execution_count": 17,
      "outputs": [
        {
          "output_type": "stream",
          "name": "stdout",
          "text": [
            "\n",
            "Cross-Validation Scores for Logistic Regression: [0.965 0.97  0.97  0.97  0.97 ]\n",
            "Average Cross-Validation Score for Logistic Regression: 0.969\n",
            "\n",
            "Cross-Validation Scores for Random Forest: [0.98 1.   1.   1.   1.  ]\n",
            "Average Cross-Validation Score for Random Forest: 0.9960000000000001\n",
            "\n",
            "Cross-Validation Scores for Gradient Boosting: [0.985 1.    1.    1.    1.   ]\n",
            "Average Cross-Validation Score for Gradient Boosting: 0.9969999999999999\n",
            "\n",
            "Cross-Validation Scores for SVM: [0.97 0.97 0.97 0.97 0.97]\n",
            "Average Cross-Validation Score for SVM: 0.97\n"
          ]
        }
      ]
    },
    {
      "cell_type": "markdown",
      "source": [
        "**Hyperparameter Tuning**"
      ],
      "metadata": {
        "id": "A1wK_aho5phF"
      }
    },
    {
      "cell_type": "code",
      "source": [
        "from sklearn.model_selection import GridSearchCV\n",
        "\n",
        "# Define the parameter grid for regularization strength\n",
        "param_grid = {'C': [0.01, 0.1, 1, 10, 100]}\n",
        "\n",
        "# Set up GridSearchCV with logistic regression and the parameter grid\n",
        "grid_search = GridSearchCV(LogisticRegression(max_iter=1000), param_grid, cv=5, scoring='accuracy')\n",
        "grid_search.fit(X_train, y_train)\n",
        "\n",
        "# Best hyperparameter and accuracy\n",
        "print(\"Best Parameters:\", grid_search.best_params_)\n",
        "print(\"Best Cross-Validation Score:\", grid_search.best_score_)\n"
      ],
      "metadata": {
        "colab": {
          "base_uri": "https://localhost:8080/"
        },
        "id": "Lqn-7a3E5rqD",
        "outputId": "1c275c25-5ba7-4a44-f966-a9d8d1151d23"
      },
      "execution_count": 11,
      "outputs": [
        {
          "output_type": "stream",
          "name": "stdout",
          "text": [
            "Best Parameters: {'C': 100}\n",
            "Best Cross-Validation Score: 0.9890000000000001\n"
          ]
        }
      ]
    },
    {
      "cell_type": "markdown",
      "source": [
        "**Final Evaluation on the Validation Set**"
      ],
      "metadata": {
        "id": "zGoQBwLs7EDU"
      }
    },
    {
      "cell_type": "code",
      "source": [
        "# Re-train the model with the best parameter\n",
        "final_model = LogisticRegression(C=100, max_iter=1000)\n",
        "final_model.fit(X_train, y_train)\n",
        "\n",
        "# Validate the model\n",
        "y_val_pred = final_model.predict(X_val)\n",
        "val_accuracy = accuracy_score(y_val, y_val_pred)\n",
        "print(\"Validation Set Accuracy:\", val_accuracy)\n",
        "print(\"\\nValidation Set Classification Report:\\n\", classification_report(y_val, y_val_pred))\n",
        "print(\"\\nValidation Set Confusion Matrix:\\n\", confusion_matrix(y_val, y_val_pred))\n"
      ],
      "metadata": {
        "colab": {
          "base_uri": "https://localhost:8080/"
        },
        "id": "Rflh_tl-6-oj",
        "outputId": "650663e1-dc9e-45d3-9e8a-cad8d6fee94b"
      },
      "execution_count": 13,
      "outputs": [
        {
          "output_type": "stream",
          "name": "stdout",
          "text": [
            "Validation Set Accuracy: 0.918918918918919\n",
            "\n",
            "Validation Set Classification Report:\n",
            "               precision    recall  f1-score   support\n",
            "\n",
            "       False       0.96      0.94      0.95       120\n",
            "        True       0.77      0.82      0.79        28\n",
            "\n",
            "    accuracy                           0.92       148\n",
            "   macro avg       0.86      0.88      0.87       148\n",
            "weighted avg       0.92      0.92      0.92       148\n",
            "\n",
            "\n",
            "Validation Set Confusion Matrix:\n",
            " [[113   7]\n",
            " [  5  23]]\n"
          ]
        }
      ]
    },
    {
      "cell_type": "markdown",
      "source": [
        "### **6. Deployment**"
      ],
      "metadata": {
        "id": "dJ-_OpLMHUuh"
      }
    },
    {
      "cell_type": "markdown",
      "source": [
        "**Model Deployment**"
      ],
      "metadata": {
        "id": "aDDRsWcRHVpZ"
      }
    },
    {
      "cell_type": "markdown",
      "source": [
        "Save the final model for deployment."
      ],
      "metadata": {
        "id": "gLDBeDG_HXUB"
      }
    },
    {
      "cell_type": "code",
      "source": [
        "!pip install joblib\n"
      ],
      "metadata": {
        "colab": {
          "base_uri": "https://localhost:8080/"
        },
        "id": "n_KJF2147pVb",
        "outputId": "59f02b43-e346-4970-f6fc-a430d091e818"
      },
      "execution_count": 15,
      "outputs": [
        {
          "output_type": "stream",
          "name": "stdout",
          "text": [
            "Requirement already satisfied: joblib in /usr/local/lib/python3.10/dist-packages (1.4.2)\n"
          ]
        }
      ]
    },
    {
      "cell_type": "code",
      "source": [
        "import joblib\n",
        "\n",
        "# Save the final model to a file\n",
        "joblib.dump(final_model, 'social_media_addiction_model.pkl')\n"
      ],
      "metadata": {
        "colab": {
          "base_uri": "https://localhost:8080/"
        },
        "id": "qoDLR46g7qMW",
        "outputId": "8a238231-48f9-4678-e075-9890a6ead131"
      },
      "execution_count": 16,
      "outputs": [
        {
          "output_type": "execute_result",
          "data": {
            "text/plain": [
              "['social_media_addiction_model.pkl']"
            ]
          },
          "metadata": {},
          "execution_count": 16
        }
      ]
    }
  ]
}